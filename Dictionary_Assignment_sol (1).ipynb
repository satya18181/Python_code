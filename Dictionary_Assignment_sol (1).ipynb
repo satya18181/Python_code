{
 "cells": [
  {
   "cell_type": "code",
   "execution_count": null,
   "metadata": {
    "colab": {
     "base_uri": "https://localhost:8080/"
    },
    "id": "E82DWTTUMOm7",
    "outputId": "6bc2939d-79f2-4bc8-ed60-a2de41904312"
   },
   "outputs": [
    {
     "data": {
      "text/plain": [
       "{'emp1': {'e_id': 'SG101', 'e_name': 'John', 'e_sal': '$10,000'},\n",
       " 'emp2': {'e_id': 'SG102', 'e_name': 'Smith', 'e_sal': '$9,000'},\n",
       " 'emp3': {'e_id': 'SG103', 'e_name': 'Peter', 'e_sal': '$9,500'}}"
      ]
     },
     "execution_count": 5,
     "metadata": {
      "tags": []
     },
     "output_type": "execute_result"
    }
   ],
   "source": [
    "# Create a dictionary out of below inputs\n",
    "# lst1 = ['emp1', 'emp2', 'emp3']\n",
    "# emp_key = ['e_name', 'e_id', 'e_sal']\n",
    "# emp1_val = ['John', 'SG101', '$10,000']\n",
    "# emp2_val = ['Smith', 'SG102', '$9,000']\n",
    "# emp3_val = ['Peter', 'SG103', '$9,500']\n",
    "\n",
    "# Expected Output:- {'emp1':{'e_name':'John', 'e_id':'SG101', 'e_sal':$10,000}, \n",
    "#                    'emp2':{'e_name':'Smith', 'e_id':'SG102', 'e_sal':$9,000}, \n",
    "#                    'emp3':{'e_name':'Peter', 'e_id':'SG103', 'e_sal':$9,500}}\n",
    "\n",
    "lst1 = ['emp1', 'emp2', 'emp3']\n",
    "emp_key = ['e_name', 'e_id', 'e_sal']\n",
    "emp1_val = ['John', 'SG101', '$10,000']\n",
    "emp2_val = ['Smith', 'SG102', '$9,000']\n",
    "emp3_val = ['Peter', 'SG103', '$9,500']\n",
    "# new_dic  = dict(zip(emp_key, emp1_val)), dict(zip(emp_key, emp2_val)), dict(zip(emp_key, emp3_val))\n",
    "# dict(zip(lst1, new_dic))\n",
    "\n",
    "out_lst = []\n",
    "for i in [emp1_val, emp2_val, emp3_val]:\n",
    "  in_d = {}\n",
    "  in_d[emp_key[0]] = i[0]\n",
    "  in_d[emp_key[1]] = i[1]\n",
    "  in_d[emp_key[2]] = i[2]\n",
    "  out_lst.append(in_d)\n",
    "out_d = {}\n",
    "for i in range(len(out_lst)):\n",
    "  out_d[lst1[i]] = out_lst[i]\n",
    "out_d\n",
    "\n",
    "\n",
    "\n"
   ]
  },
  {
   "cell_type": "code",
   "execution_count": null,
   "metadata": {
    "id": "u5AOlLtGMOnG"
   },
   "outputs": [],
   "source": [
    "# Acess the value of key 'history'\n",
    "\n",
    "# sampleDict = { \n",
    "#    \"class\":{ \n",
    "#       \"student\":{ \n",
    "#          \"name\":\"Mike\",\n",
    "#          \"marks\":{ \n",
    "#             \"physics\":70,\n",
    "#             \"history\":80\n",
    "#          }\n",
    "#       }\n",
    "#    }\n",
    "# }\n",
    "\n",
    "\n"
   ]
  },
  {
   "cell_type": "code",
   "execution_count": null,
   "metadata": {
    "id": "QST2PfKoMOnL",
    "outputId": "0220c910-407c-4771-b920-e1ac2809d54a"
   },
   "outputs": [
    {
     "name": "stdout",
     "output_type": "stream",
     "text": [
      "{'Kelly': {'designation': 'Application Developer', 'salary': 8000}, 'Emma': {'designation': 'Application Developer', 'salary': 8000}, 'John': {'designation': 'Application Developer', 'salary': 8000}}\n"
     ]
    }
   ],
   "source": [
    "# Initialize dictionary with default values. Inputs are:-\n",
    "# employees = ['Kelly', 'Emma', 'John']\n",
    "# defaults = {\"designation\": 'Application Developer', \"salary\": 8000}\n",
    "\n",
    "#Expected output:- {'Kelly': {'designation': 'Application Developer', 'salary': 8000}, \n",
    "#                   'Emma': {'designation': 'Application Developer', 'salary': 8000}, \n",
    "#                   'John': {'designation': 'Application Developer', 'salary': 8000}}"
   ]
  },
  {
   "cell_type": "code",
   "execution_count": null,
   "metadata": {
    "colab": {
     "base_uri": "https://localhost:8080/"
    },
    "id": "XRS3JOwAMOnT",
    "outputId": "6ad05181-63a0-44ec-a3b2-1f72f6087a54"
   },
   "outputs": [
    {
     "name": "stdout",
     "output_type": "stream",
     "text": [
      "['a']\n"
     ]
    }
   ],
   "source": [
    "# Write a function reverseLookup(dictionary, value) that takes in a dictionary \n",
    "# and a value as arguments and returns a sorted list of all keys that contains the value. \n",
    "# The function will return an empty list if no match is found.\n",
    "\n",
    "# In - reverseLookup({'a':1, 'b':2, 'c':2}, 1)\n",
    "# Out - ['a']\n",
    "# In - reverseLookup({'a':1, 'b':2, 'c':2}, 2)\n",
    "# Out - ['b', 'c']\n",
    "# In - reverseLookup({'a':1, 'b':2, 'c':2}, 3)\n",
    "# Out - []\n",
    "\n",
    "def reverseLookup(dictionary, value):\n",
    "    key_lst = list(dictionary.keys())\n",
    "    values_lst = list(dictionary.values())\n",
    "    out_lst = []\n",
    "    pos = -1\n",
    "    for val in values_lst:\n",
    "        try:\n",
    "            pos = values_lst.index(value, pos+1)\n",
    "        except ValueError:\n",
    "            break\n",
    "        out_lst.append(key_lst[pos])\n",
    "    out_lst.sort()\n",
    "\n",
    "    return out_lst\n",
    "print(reverseLookup({'a':1, 'b':2, 'c':2}, 1))"
   ]
  },
  {
   "cell_type": "code",
   "execution_count": null,
   "metadata": {
    "id": "97xKJ_Q8MOnc",
    "outputId": "2a9f281d-a8ae-44e4-82ec-5412bb627574"
   },
   "outputs": [
    {
     "data": {
      "text/plain": [
       "{2: ['a', 'c'], 1: ['b', 'd']}"
      ]
     },
     "execution_count": 8,
     "metadata": {
      "tags": []
     },
     "output_type": "execute_result"
    }
   ],
   "source": [
    "# Write a function invertDictionary(d) that takes in a dictionary as argument and return a dictionary that inverts the keys and the values of the original dictionary.\n",
    "# In - invertDictionary({'a':1, 'b':2, 'c':3, 'd':2})\n",
    "# Out - {1: ['a'], 2: ['b', 'd'], 3: ['c']}\n",
    "# In - invertDictionary({'a':3, 'b':3, 'c':3})\n",
    "# Out - {3: ['a', 'c', 'b']}\n",
    "# In - invertDictionary({'a':2, 'b':1, 'c':2, 'd':1})\n",
    "# Out - {1: ['b', 'd'], 2: ['a', 'c']}\n",
    "\n",
    "\n",
    "def invertDictionary(d):\n",
    "    key_lst = list(d.keys())\n",
    "    val_lst = list(d.values())\n",
    "    out_dict = {}\n",
    "    for i in val_lst:\n",
    "        if i in out_dict:\n",
    "            out_dict[i].append(key_lst[val_lst.index(i)])\n",
    "            val_lst[val_lst.index(i)] = None\n",
    "        elif i == None:\n",
    "            continue\n",
    "        else:\n",
    "            out_dict[i] = [key_lst[val_lst.index(i)]]\n",
    "            val_lst[val_lst.index(i)] = None\n",
    "    return out_dict\n",
    "\n",
    "invertDictionary({'a':2, 'b':1, 'c':2, 'd':1})"
   ]
  },
  {
   "cell_type": "code",
   "execution_count": null,
   "metadata": {
    "colab": {
     "base_uri": "https://localhost:8080/",
     "height": 34
    },
    "id": "pgX2sTZCMOng",
    "outputId": "fa678988-472b-4c33-fb08-fa506ae208c0"
   },
   "outputs": [
    {
     "data": {
      "text/plain": [
       "{0: 1, 2: 1, 4: 2, 6: 1, 9: 1}"
      ]
     },
     "execution_count": 3,
     "metadata": {
      "tags": []
     },
     "output_type": "execute_result"
    }
   ],
   "source": [
    "# Write a function that converts a sparse vector into a dictionary as described above.\n",
    "# In - convertVector([1, 0, 0, 2, 0, 0, 0, 3, 0, 0, 0, 0, 4])\n",
    "# Out - {0: 1, 3: 2, 7: 3, 12: 4}\n",
    "# In - convertVector([1, 0, 1 , 0, 2, 0, 1, 0, 0, 1, 0])\n",
    "# Out - {0: 1, 2: 1, 4: 2, 6: 1, 9: 1}\n",
    "# In - convertVector([0, 0, 0, 0, 0])\n",
    "# Out - {}\n",
    "\n",
    "# def convertVector(numbers):\n",
    "#     pos = -1\n",
    "#     out_dict = {}\n",
    "#     for num in numbers:\n",
    "#         if num != 0:\n",
    "#             try:\n",
    "#                 pos = numbers.index(num, pos+1)\n",
    "#             except:\n",
    "#                 break\n",
    "#             out_dict[pos] = num\n",
    "#     return out_dict\n",
    "\n",
    "# convertVector([1, 0, 0, 2, 0, 0, 0, 3, 0, 0, 0, 0, 4])\n",
    "\n",
    "dict([i for i in enumerate([1, 0, 1 , 0, 2, 0, 1, 0, 0, 1, 0]) if i[-1] != 0])"
   ]
  },
  {
   "cell_type": "code",
   "execution_count": null,
   "metadata": {
    "colab": {
     "base_uri": "https://localhost:8080/"
    },
    "id": "WfKtCBRmMOnj",
    "outputId": "19e86a4b-dbd7-4dde-d7c0-2d7f3908b6d4"
   },
   "outputs": [
    {
     "data": {
      "text/plain": [
       "[1, 0, 0, 2, 0, 0, 0, 3, 0, 0, 0, 0, 4]"
      ]
     },
     "execution_count": 1,
     "metadata": {
      "tags": []
     },
     "output_type": "execute_result"
    }
   ],
   "source": [
    "# Write a function that converts a dictionary back to its sparse vector representation.\n",
    "# In - convertDictionary({0: 1, 3: 2, 7: 3, 12: 4})\n",
    "# Out - [1, 0, 0, 2, 0, 0, 0, 3, 0, 0, 0, 0, 4]\n",
    "# In - convertDictionary({0: 1, 2: 1, 4: 2, 6: 1, 9: 1})\n",
    "# Out - [1, 0, 1, 0, 2, 0, 1, 0, 0, 1]\n",
    "# In - convertDictionary({})\n",
    "# Out - []\n",
    "\n",
    "def convertDictionary(dictionary): \n",
    "    key_lst = list(dictionary.keys())\n",
    "    val_lst = list(dictionary.values())\n",
    "    max_key = max(key_lst)\n",
    "    out_lst = [0] * (max_key+1)\n",
    "    pos = -1\n",
    "    for ind in key_lst:\n",
    "        try:\n",
    "            pos = key_lst.index(ind, pos+1)\n",
    "        except ValueError:\n",
    "            break\n",
    "        out_lst[ind] = val_lst[pos]\n",
    "    return out_lst\n",
    "\n",
    "convertDictionary({0: 1, 3: 2, 7: 3, 12: 4})"
   ]
  },
  {
   "cell_type": "code",
   "execution_count": null,
   "metadata": {
    "id": "DCQ5IZFkCgYz"
   },
   "outputs": [],
   "source": []
  },
  {
   "cell_type": "code",
   "execution_count": null,
   "metadata": {
    "id": "H6x5klKgMOoR",
    "outputId": "aaa0dc7b-af2a-443f-f9ab-732e093ebb90"
   },
   "outputs": [
    {
     "name": "stdout",
     "output_type": "stream",
     "text": [
      "3.14\n"
     ]
    }
   ],
   "source": [
    "import math\n",
    "fl = math.pi\n",
    "# print(dir(f))\n",
    "print(f'{fl:.2f}')\n",
    "# help(f)\n"
   ]
  }
 ],
 "metadata": {
  "colab": {
   "collapsed_sections": [],
   "name": "Dictionary_Assignment_sol.ipynb",
   "provenance": []
  },
  "kernelspec": {
   "display_name": "Python 3",
   "language": "python",
   "name": "python3"
  },
  "language_info": {
   "codemirror_mode": {
    "name": "ipython",
    "version": 3
   },
   "file_extension": ".py",
   "mimetype": "text/x-python",
   "name": "python",
   "nbconvert_exporter": "python",
   "pygments_lexer": "ipython3",
   "version": "3.8.3"
  }
 },
 "nbformat": 4,
 "nbformat_minor": 1
}
