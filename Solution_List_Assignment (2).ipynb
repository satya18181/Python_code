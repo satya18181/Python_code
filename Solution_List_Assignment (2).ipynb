{
 "cells": [
  {
   "cell_type": "code",
   "execution_count": null,
   "metadata": {
    "id": "gtlAv2oq9yzd"
   },
   "outputs": [],
   "source": [
    "#Write a Python program to find the sum of all elements in a list using loop.\n",
    "#Input:- [10,20,30,40]\n",
    "#Output:- 100\n",
    "\n",
    "# Using for Loop\n",
    "# lst = [10,20,30,40]\n",
    "# total = 0\n",
    "# for i in range(len(lst)):\n",
    "#   total += lst[i]\n",
    "# print('Sum of all elements inside the given list is', total)\n",
    "\n",
    "# Alternate way using for loop\n",
    "# lst = [10,20,30,40]\n",
    "# total = 0\n",
    "# for i in lst:\n",
    "#   total += i\n",
    "# print('Sum of all elements inside the given list is', total)\n",
    "\n",
    "# Using while loop\n",
    "# lst = [10,20,30,40]\n",
    "# total = 0\n",
    "# ind = 0\n",
    "# while ind < len(lst):\n",
    "#   total += lst[ind]\n",
    "#   ind += 1\n",
    "# print('Sum of all elements inside the given list is', total)\n",
    "\n",
    "# Using builtin function\n",
    "# lst = [10,20,30,40]\n",
    "# print('Sum of all elements inside the given list is', sum(lst))\n",
    "\n",
    "# Using reduce Function\n",
    "# from functools import reduce\n",
    "# lst = [10,20,30,40]\n",
    "# print('Sum of all elements inside the given list is',reduce(lambda num1, num2:num1+num2, lst))\n",
    "\n",
    "\n",
    "\n",
    "\n",
    "\n"
   ]
  },
  {
   "cell_type": "code",
   "execution_count": null,
   "metadata": {
    "id": "gTbA8psa93Y_"
   },
   "outputs": [],
   "source": [
    "#Write a Python program to find the multiplication of all elements in a list using loop.\n",
    "#Input:- [10,20,30,40]\n",
    "#Output:- 240000\n",
    "\n",
    "\n",
    "# Using for Loop\n",
    "# lst = [10,20,30,40]\n",
    "# total = 1\n",
    "# for i in range(len(lst)):\n",
    "#   total *= lst[i]\n",
    "# print('Product of all elements inside the given list is', total)\n",
    "\n",
    "# Alternate way using for loop\n",
    "# lst = [10,20,30,40]\n",
    "# total = 1\n",
    "# for i in lst:\n",
    "#   total *= i\n",
    "# print('Product of all elements inside the given list is', total)\n",
    "\n",
    "# Using while loop\n",
    "# lst = [10,20,30,40]\n",
    "# total = 1\n",
    "# ind = 0\n",
    "# while ind < len(lst):\n",
    "#   total *= lst[ind]\n",
    "#   ind += 1\n",
    "# print('Product of all elements inside the given list is', total)\n",
    "\n",
    "# Using reduce Function\n",
    "# from functools import reduce\n",
    "# lst = [10,20,30,40]\n",
    "# print('Product of all elements inside the given list is',reduce(lambda num1, num2:num1*num2, lst))\n"
   ]
  },
  {
   "cell_type": "code",
   "execution_count": null,
   "metadata": {
    "colab": {
     "base_uri": "https://localhost:8080/"
    },
    "id": "XBCrEtLN94Lj",
    "outputId": "25a8c2b2-a598-4b8c-806a-0351b66ed24c"
   },
   "outputs": [
    {
     "name": "stdout",
     "output_type": "stream",
     "text": [
      "Maximum number in the list is 2321\n"
     ]
    }
   ],
   "source": [
    "#Write a Python program to find the largest number from a list using loop.\n",
    "#Input:- [10,100,2321, 1,200,2]\n",
    "#Output:- 2321\n",
    "\n",
    "# Using for loop\n",
    "# lst = [10,100,2321, 1,200,2]\n",
    "# max_num = lst[0]\n",
    "# for num in lst:\n",
    "#   if num > max_num:\n",
    "#     max_num = num\n",
    "# print('Maximum number in the list is', max_num)\n",
    "\n",
    "# Using for loop - alternate way\n",
    "# lst = [10,100,2321, 1,200,2]\n",
    "# max_num = lst[0]\n",
    "# for ind in range(len(lst)):\n",
    "#   if lst[ind] > max_num:\n",
    "#     max_num = lst[ind]\n",
    "# print('Maximum number in the list is', max_num)\n",
    "\n",
    "# Using while loop\n",
    "# lst = [10,100,2321, 1,200,2]\n",
    "# max_num = lst[0]\n",
    "# ind = 0\n",
    "# while ind < len(lst):\n",
    "#   if lst[ind] > max_num:\n",
    "#     max_num = lst[ind]\n",
    "#   ind += 1\n",
    "# print('Maximum number in the list is', max_num)\n",
    "\n",
    "# Using builtin functions\n",
    "# lst = [10,100,2321, 1,200,2]\n",
    "# print('Maximum number in the list is', max(lst))\n",
    "\n",
    "# Using reduce function\n",
    "# from functools import reduce\n",
    "# lst = [10,100,2321, 1,200,2]\n",
    "# print('Maximum number in the list is',reduce(lambda num1, num2:num1 if num1>num2 else num2, lst))\n",
    "\n",
    "\n",
    "\n"
   ]
  },
  {
   "cell_type": "code",
   "execution_count": null,
   "metadata": {
    "colab": {
     "base_uri": "https://localhost:8080/"
    },
    "id": "l3paUtbH94Vw",
    "outputId": "91ea2850-2140-4329-f61c-65356b3a40c7"
   },
   "outputs": [
    {
     "name": "stdout",
     "output_type": "stream",
     "text": [
      "Minimum number in the list is 1\n"
     ]
    }
   ],
   "source": [
    "#Write a Python program to find the smallest number from a list using loop.\n",
    "#Input:- [10,100,2321, 1,200,2]\n",
    "#Output:- 1\n",
    "\n",
    "# Using for loop\n",
    "# lst = [10,100,2321, 1,200,2]\n",
    "# min_num = lst[0]\n",
    "# for num in lst:\n",
    "#   if num < min_num:\n",
    "#     min_num = num\n",
    "# print('Minimum number in the list is', min_num)\n",
    "\n",
    "# Using for loop - alternate way\n",
    "# lst = [10,100,2321, 1,200,2]\n",
    "# min_num = lst[0]\n",
    "# for ind in range(len(lst)):\n",
    "#   if lst[ind] < min_num:\n",
    "#     min_num = lst[ind]\n",
    "# print('Minimum number in the list is', min_num)\n",
    "\n",
    "# Using while loop\n",
    "# lst = [10,100,2321, 1,200,2]\n",
    "# min_num = lst[0]\n",
    "# ind = 0\n",
    "# while ind < len(lst):\n",
    "#   if lst[ind] < min_num:\n",
    "#     min_num = lst[ind]\n",
    "#   ind += 1\n",
    "# print('Minimum number in the list is', min_num)\n",
    "\n",
    "# Using builtin functions\n",
    "# lst = [10,100,2321, 1,200,2]\n",
    "# print('Minimum number in the list is', min(lst))\n",
    "\n",
    "# Using reduce function\n",
    "# from functools import reduce\n",
    "# lst = [10,100,2321, 1,200,2]\n",
    "# print('Minimum number in the list is',reduce(lambda num1, num2:num1 if num1<num2 else num2, lst))\n",
    "\n"
   ]
  },
  {
   "cell_type": "code",
   "execution_count": null,
   "metadata": {
    "colab": {
     "base_uri": "https://localhost:8080/"
    },
    "id": "JTVgy5VD94cE",
    "outputId": "98c5625f-7279-4476-d348-c2dc24e33536"
   },
   "outputs": [
    {
     "name": "stdout",
     "output_type": "stream",
     "text": [
      "Number of elements in the list having length more than 2 and palindrome are 2\n"
     ]
    }
   ],
   "source": [
    "#Write a Python program to count the number of strings having length more than 2 and are palindrome in a list using loop.\n",
    "#Input:- ['ab', 'abc', 'aba', 'xyz', '1991']\n",
    "#Output:- 2\n",
    "\n",
    "# Using for loop\n",
    "# lst = ['ab', 'abc', 'aba', 'xyz', '1991']\n",
    "# palindrome_count = 0\n",
    "# for ele in lst:\n",
    "#   if ele == ele[::-1] and len(ele) > 2:\n",
    "#     palindrome_count += 1\n",
    "# print('Number of elements in the list having length more than 2 and palindrome are', palindrome_count)\n",
    "\n",
    "# Using for loop - alternate way\n",
    "# lst = ['ab', 'abc', 'aba', 'xyz', '1991']\n",
    "# palindrome_count = 0\n",
    "# for ind in range(len(lst)):\n",
    "#   if lst[ind] == lst[ind][::-1] and len(lst[ind]) > 2:\n",
    "#     palindrome_count += 1\n",
    "# print('Number of elements in the list having length more than 2 and palindrome are', palindrome_count)\n",
    "\n",
    "# Using while loop\n",
    "# lst = ['ab', 'abc', 'aba', 'xyz', '1991']\n",
    "# palindrome_count = 0\n",
    "# ind = 0\n",
    "# while ind < len(lst):\n",
    "#   if lst[ind] == lst[ind][::-1] and len(lst[ind]) > 2:\n",
    "#     palindrome_count += 1\n",
    "#   ind += 1\n",
    "# print('Number of elements in the list having length more than 2 and palindrome are', palindrome_count)  \n"
   ]
  },
  {
   "cell_type": "code",
   "execution_count": null,
   "metadata": {
    "colab": {
     "base_uri": "https://localhost:8080/"
    },
    "id": "xs-ZGJbJ94gr",
    "outputId": "5fdff995-0208-4fdf-8769-4d7dce920bb9"
   },
   "outputs": [
    {
     "name": "stdout",
     "output_type": "stream",
     "text": [
      "The sorted list is [1, 2, 9, 10, 65, 80, 100, 298, 483, 9213, 49876]\n"
     ]
    }
   ],
   "source": [
    "#Write a Python program to sort a list in ascending order using loop.\n",
    "#Input:- [100,10,1,298,65,483,49876,2,80,9,9213]\n",
    "#Output:- [1,2,9,10,65,80,100,298,483,9213,49876]\n",
    "\n",
    "# Using bubble sort\n",
    "# lst = [100,10,1,298,65,483,49876,2,80,9,9213]\n",
    "# for i in range(len(lst)):\n",
    "#   for j in range(len(lst)-i-1):\n",
    "#     if lst[j] > lst[j+1]:\n",
    "#       lst[j], lst[j+1] = lst[j+1], lst[j]\n",
    "# print('The sorted list is', lst)\n",
    "\n",
    "# Using builtin function\n",
    "# lst = [100,10,1,298,65,483,49876,2,80,9,9213]\n",
    "# lst.sort()\n",
    "# print('The sorted list is', lst)\n"
   ]
  },
  {
   "cell_type": "code",
   "execution_count": null,
   "metadata": {
    "colab": {
     "base_uri": "https://localhost:8080/"
    },
    "id": "VhKQJizZ94kg",
    "outputId": "b401f662-222a-49aa-977d-b355a77f0a75"
   },
   "outputs": [
    {
     "name": "stdout",
     "output_type": "stream",
     "text": [
      "The sorted list is [(9, 1), (2, 3), (5, 4), (5, 5), (7, 6), (5, 9)]\n"
     ]
    }
   ],
   "source": [
    "#Write a Python program to get a sorted list in increasing order of last element in each tuple in a given list using loop.\n",
    "#Input:- [(5,4),(9,1),(2,3),(5,9),(7,6),(5,5)]\n",
    "#output:- [(9,1),(2,3),(5,4),(5,5),(7,6),(5,9)]\n",
    "\n",
    "# Using bubble sort\n",
    "# lst = [(5,4),(9,1),(2,3),(5,9),(7,6),(5,5)]\n",
    "# for i in range(len(lst)):\n",
    "#   for j in range(len(lst)-i-1):\n",
    "#     if lst[j][-1] > lst[j+1][-1]:\n",
    "#       lst[j], lst[j+1] = lst[j+1], lst[j]\n",
    "# print('The sorted list is', lst)\n",
    "\n",
    "# Using builtin function\n",
    "# lst = [(5,4),(9,1),(2,3),(5,9),(7,6),(5,5)]\n",
    "# lst.sort(key = lambda tpl:tpl[-1])\n",
    "# print('The sorted list is', lst)\n"
   ]
  },
  {
   "cell_type": "code",
   "execution_count": null,
   "metadata": {
    "colab": {
     "base_uri": "https://localhost:8080/"
    },
    "id": "YJrCLYp694n_",
    "outputId": "ea170693-ad66-49ee-a1f6-e70a360a9788"
   },
   "outputs": [
    {
     "name": "stdout",
     "output_type": "stream",
     "text": [
      "[768, 1, 10, 11, 876, 92, 29]\n"
     ]
    }
   ],
   "source": [
    "#Write a Python program to remove duplicate element from a list using loop.\n",
    "#Input:- [10,1,11,1,29,876,768,10,11,1,92,29,876]\n",
    "#Output:- [10,1,11,29,876,768,92]\n",
    "\n",
    "# Using for loop\n",
    "# lst = [10,1,11,1,29,876,768,10,11,1,92,29,876]\n",
    "# out_lst = []\n",
    "# for ele in lst:\n",
    "#   if ele not in out_lst:\n",
    "#     out_lst.append(ele)\n",
    "# print(out_lst)\n",
    "\n",
    "# using for loop - alternate way\n",
    "# lst = [10,1,11,1,29,876,768,10,11,1,92,29,876]\n",
    "# out_lst = []\n",
    "# for ind in range(len(lst)):\n",
    "#   if lst[ind] not in out_lst:\n",
    "#     out_lst.append(lst[ind])\n",
    "# print(out_lst)\n",
    "\n",
    "# Using loop comprehension\n",
    "# lst = [10,1,11,1,29,876,768,10,11,1,92,29,876]\n",
    "# out_lst = []\n",
    "# [out_lst.append(ele) for ele in lst if ele not in out_lst]\n",
    "# print(out_lst)\n",
    "\n",
    "# Using set property\n",
    "# lst = [10,1,11,1,29,876,768,10,11,1,92,29,876]\n",
    "# print(list(set(lst)))\n",
    "\n"
   ]
  },
  {
   "cell_type": "code",
   "execution_count": null,
   "metadata": {
    "colab": {
     "base_uri": "https://localhost:8080/"
    },
    "id": "koYe4YCu94rh",
    "outputId": "a4d40b60-2b8f-48f1-d6cf-7bbf33d814e8"
   },
   "outputs": [
    {
     "name": "stdout",
     "output_type": "stream",
     "text": [
      "Enter a list: [10,203,40]\n",
      "List is not empty\n"
     ]
    }
   ],
   "source": [
    "#Write a Python program to check a list is empty or not?\n",
    "#Input:- []\n",
    "#Output:- List is empty\n",
    "#Input:- [10,20,30]\n",
    "#Output:- List is not empty\n",
    "\n",
    "lst = eval(input('Enter a list: '))\n",
    "if len(lst) == 0:\n",
    "  print('List is empty')\n",
    "else:\n",
    "  print('List is not empty')\n"
   ]
  },
  {
   "cell_type": "code",
   "execution_count": null,
   "metadata": {
    "colab": {
     "base_uri": "https://localhost:8080/"
    },
    "id": "mES1WANa94u5",
    "outputId": "d71888c7-9bc0-4cb8-e761-f69196cc6187"
   },
   "outputs": [
    {
     "name": "stdout",
     "output_type": "stream",
     "text": [
      "[10, 10.2, (10+20j), 'Python', [10, 20], (10, 20)]\n"
     ]
    }
   ],
   "source": [
    "#Write a Python program to copy a list using loop.\n",
    "#inp_lst = [10,10.20,10+20j, 'Python', [10,20], (10,20)]\n",
    "#out_lst = [10,10.20,10+20j, 'Python', [10,20], (10,20)]\n",
    "\n",
    "# Using for loop\n",
    "# inp_lst = [10,10.20,10+20j, 'Python', [10,20], (10,20)]\n",
    "# copy_lst = []\n",
    "# for ele in inp_lst:\n",
    "#   copy_lst.append(ele)\n",
    "# print(copy_lst)\n",
    "\n",
    "# Using while loop\n",
    "# inp_lst = [10,10.20,10+20j, 'Python', [10,20], (10,20)]\n",
    "# copy_lst = []\n",
    "# ind = 0\n",
    "# while ind < len(inp_lst):\n",
    "#   copy_lst.append(inp_lst[ind])\n",
    "#   ind += 1\n",
    "# print(copy_lst)\n",
    "\n",
    "# Using list comprehension\n",
    "# inp_lst = [10,10.20,10+20j, 'Python', [10,20], (10,20)]\n",
    "# copy_lst = [ele for ele in inp_lst]\n",
    "# print(copy_lst)\n",
    "\n",
    "# using slicing\n",
    "# inp_lst = [10,10.20,10+20j, 'Python', [10,20], (10,20)]\n",
    "# out_lst = inp_lst[::]\n",
    "# print(out_lst)\n",
    "\n",
    "# Using copy method\n",
    "# inp_lst = [10,10.20,10+20j, 'Python', [10,20], (10,20)]\n",
    "# out_lst = inp_lst.copy()\n",
    "# print(out_lst)\n",
    "\n"
   ]
  },
  {
   "cell_type": "code",
   "execution_count": null,
   "metadata": {
    "colab": {
     "base_uri": "https://localhost:8080/"
    },
    "id": "CpBh31WO94yi",
    "outputId": "0578a45a-f9b8-4b84-e650-3c326e2e7b03"
   },
   "outputs": [
    {
     "name": "stdout",
     "output_type": "stream",
     "text": [
      "['much', 'could', 'would', 'chuck', 'wood', 'woodchuck']\n"
     ]
    }
   ],
   "source": [
    "#Write a Python program to find the list of words that are longer than or equal to 4 from a given string.\n",
    "#Input:- 'How much wood would a woodchuck chuck if a woodchuck could chuck wood'\n",
    "#Output:- ['much', 'wood', 'would', 'woodchuck', 'chuck', 'could']\n",
    "#Note:- Duplicate should be avoided.\n",
    "\n",
    "# Using for loop\n",
    "# inp_str = 'How much wood would a woodchuck chuck if a woodchuck could chuck wood'\n",
    "# out_lst = []\n",
    "# out_str = ''\n",
    "# for i in range(len(inp_str)):\n",
    "#   if inp_str[i] == ' ':\n",
    "#     if (out_str not in out_lst) and (len(out_str) >= 4):\n",
    "#       out_lst.append(out_str)\n",
    "#       out_str = ''\n",
    "#     else:\n",
    "#       out_str = ''\n",
    "#   elif i == len(inp_str):\n",
    "#     out_str += inp_str[i]\n",
    "#     out_lst.append(out_str)\n",
    "#     out_str = ''\n",
    "#   else:\n",
    "#     out_str += inp_str[i]\n",
    "# print(out_lst)\n",
    "\n",
    "# Using builtin function\n",
    "# inp_str = 'How much wood would a woodchuck chuck if a woodchuck could chuck wood'\n",
    "# print([ele for ele in set(inp_str.split()) if len(ele) >= 4])"
   ]
  },
  {
   "cell_type": "code",
   "execution_count": null,
   "metadata": {
    "colab": {
     "base_uri": "https://localhost:8080/"
    },
    "id": "YVfj0fgZ9416",
    "outputId": "e7b1be8e-5674-4af7-9948-c3c703abc45e"
   },
   "outputs": [
    {
     "name": "stdout",
     "output_type": "stream",
     "text": [
      "True\n"
     ]
    }
   ],
   "source": [
    "#Write a Python program which takes two list as input and returns True if they have at least 3 common elements.\n",
    "#inp_lst1 = [10,20,'Python', 10.20, 10+20j, [10,20,30], (10,20,30)]\n",
    "#inp_lst2 = [(10,20,30),1,20+3j,100.2, 10+20j, [10,20,30],'Python']\n",
    "#Output:- True\n",
    "\n",
    "# inp_lst1 = [10,20,'Python', 10.20, 10+20j, [10,20,30], (10,20,30)]\n",
    "# inp_lst2 = [(10,20,30),1,20+3j,100.2, 10+20j, [10,20,30],'Python']\n",
    "# count = 0\n",
    "# for ele in inp_lst1:\n",
    "#   if ele in inp_lst2:\n",
    "#     count += 1\n",
    "# if count >= 3:\n",
    "#   print(True)\n"
   ]
  },
  {
   "cell_type": "code",
   "execution_count": null,
   "metadata": {
    "id": "7vwc3pjR945O"
   },
   "outputs": [],
   "source": [
    "#Write a Python program to create a 4X4 2D matrix with below elements using loop and list comprehension both.\n",
    "#Output:- [[0,0,0,0],[0,1,2,3],[0,2,4,6],[0,3,6,9]]\n",
    "\n",
    "# Using for loop\n",
    "# out_lst = []\n",
    "# for i in range(4):\n",
    "#   in_lst1 = []\n",
    "#   for j in range(4):\n",
    "#     in_lst1.append(i*j)\n",
    "#   out_lst.append(in_lst1)\n",
    "# out_lst\n",
    "\n",
    "# using loop comprehension\n",
    "# [[i*j for j in range(4)]for i in range(4)]\n"
   ]
  },
  {
   "cell_type": "code",
   "execution_count": null,
   "metadata": {
    "colab": {
     "base_uri": "https://localhost:8080/"
    },
    "id": "Pxafor84948b",
    "outputId": "26bb3174-71c9-4a1e-b69e-68b520e8ebef"
   },
   "outputs": [
    {
     "data": {
      "text/plain": [
       "[[[0, 0, 0, 0, 0, 0],\n",
       "  [0, 0, 0, 0, 0, 0],\n",
       "  [0, 0, 0, 0, 0, 0],\n",
       "  [0, 0, 0, 0, 0, 0]],\n",
       " [[0, 0, 0, 0, 0, 0],\n",
       "  [1, 1, 1, 1, 1, 1],\n",
       "  [2, 2, 2, 2, 2, 2],\n",
       "  [3, 3, 3, 3, 3, 3]],\n",
       " [[0, 0, 0, 0, 0, 0],\n",
       "  [2, 2, 2, 2, 2, 2],\n",
       "  [4, 4, 4, 4, 4, 4],\n",
       "  [6, 6, 6, 6, 6, 6]]]"
      ]
     },
     "execution_count": 68,
     "metadata": {
      "tags": []
     },
     "output_type": "execute_result"
    }
   ],
   "source": [
    "#Write a Python program to create a 3X4X6 3D matrix wiith below elements using loop\n",
    "#Output:- \n",
    "# [\n",
    "#     [[0,0,0,0,0,0],[0,0,0,0,0,0],[0,0,0,0,0,0],[0,0,0,0,0,0]],\n",
    "#     [[0,0,0,0,0,0],[1,1,1,1,1,1],[2,2,2,2,2,2],[3,3,3,3,3,3]],\n",
    "#     [[0,0,0,0,0,0],[2,2,2,2,2,2],[4,4,4,4,4,4],[6,6,6,6,6,6]]\n",
    "# ]\n",
    "\n",
    "# Using for loop\n",
    "# out_lst = []\n",
    "# for i in range(3):\n",
    "#   in_lst1 = []\n",
    "#   for j in range(4):\n",
    "#     in_lst2 =[]\n",
    "#     for k in range(6):\n",
    "#       in_lst2.append(i*j)\n",
    "#     in_lst1.append(in_lst2)\n",
    "#   out_lst.append(in_lst1)\n",
    "# out_lst\n",
    "\n",
    "# using loop comprehension\n",
    "# [[[i*j for k in range(6)]for j in range(4)]for i in range(3)]"
   ]
  },
  {
   "cell_type": "code",
   "execution_count": null,
   "metadata": {
    "colab": {
     "base_uri": "https://localhost:8080/"
    },
    "id": "lYNv8gk794_p",
    "outputId": "865eb70d-ec26-4a62-bec3-3c6bce66a5e5"
   },
   "outputs": [
    {
     "name": "stdout",
     "output_type": "stream",
     "text": [
      "[21, 87, 45, 33, 1]\n"
     ]
    }
   ],
   "source": [
    "#Write a Python program which takes a list of numbers as input and prints a new list after removing even numbers from it.\n",
    "#Input:- [10,21,22,98,87,45,33,1,2,100]\n",
    "#Output:- [21,87,45,33,1]\n",
    "\n",
    "# Using for loop\n",
    "# lst = [10,21,22,98,87,45,33,1,2,100]\n",
    "# out_lst = []\n",
    "# for ele in lst:\n",
    "#   if ele % 2 != 0:\n",
    "#     out_lst.append(ele)\n",
    "# print(out_lst)\n",
    "\n",
    "# Using loop comprehension\n",
    "# lst = [10,21,22,98,87,45,33,1,2,100]\n",
    "# print([ele for ele in lst if ele % 2 != 0])\n",
    "\n",
    "\n"
   ]
  },
  {
   "cell_type": "code",
   "execution_count": null,
   "metadata": {
    "id": "3BaCb-rB95B7"
   },
   "outputs": [],
   "source": [
    "#Write a Python program which takes a list from the user and prints it after reshuffling the elements of the list.\n",
    "#Input:- [10,21,22,98,87,45,33,1,2,100]\n",
    "#Output:- [1,87,21,10,33,2,100,45,98,22] (It may be any randon list but with same elements)\n",
    "\n",
    "# from random import shuffle\n",
    "# lst = [10,21,22,98,87,45,33,1,2,100]\n",
    "# shuffle(lst)\n",
    "# print(lst)\n"
   ]
  }
 ],
 "metadata": {
  "colab": {
   "collapsed_sections": [],
   "name": "Solution_List_Assignment.ipynb",
   "provenance": []
  },
  "kernelspec": {
   "display_name": "Python 3",
   "language": "python",
   "name": "python3"
  },
  "language_info": {
   "codemirror_mode": {
    "name": "ipython",
    "version": 3
   },
   "file_extension": ".py",
   "mimetype": "text/x-python",
   "name": "python",
   "nbconvert_exporter": "python",
   "pygments_lexer": "ipython3",
   "version": "3.8.3"
  }
 },
 "nbformat": 4,
 "nbformat_minor": 1
}
