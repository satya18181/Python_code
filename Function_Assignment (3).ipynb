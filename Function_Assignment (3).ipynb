{
  "nbformat": 4,
  "nbformat_minor": 0,
  "metadata": {
    "colab": {
      "name": "Function_Assignment.ipynb",
      "provenance": []
    },
    "kernelspec": {
      "name": "python3",
      "display_name": "Python 3"
    }
  },
  "cells": [
    {
      "cell_type": "code",
      "metadata": {
        "id": "1YVTYu-CuCOO"
      },
      "source": [
        "# Define a function calls addNumber(x, y) that takes in two number and returns the sum of the two numbers.\n",
        "\n",
        "\n"
      ],
      "execution_count": null,
      "outputs": []
    },
    {
      "cell_type": "code",
      "metadata": {
        "id": "1-gIq-Rju2i2"
      },
      "source": [
        "# Define a function calls subtractNumber(x, y) that takes in two numbers and returns the difference of the two numbers.\n",
        "\n"
      ],
      "execution_count": null,
      "outputs": []
    },
    {
      "cell_type": "code",
      "metadata": {
        "id": "kiAE0iLbviG9"
      },
      "source": [
        "# Write a function getBiggerNumber(x, y) that takes in two numbers as arguments and returns the bigger number.\n",
        "\n",
        "\n"
      ],
      "execution_count": null,
      "outputs": []
    },
    {
      "cell_type": "code",
      "metadata": {
        "id": "10B5oVcZh16d"
      },
      "source": [
        "# Python provides many built-in modules with many useful functions. \n",
        "# One such module is the math module. The math module provides many useful functions such as sqrt(x), pow(x, y), ceil(x), floor(x) etc. \n",
        "# You will need to do a \"import math\" before you are allowed to use the functions within the math module.\n",
        "\n",
        "\n",
        "# Calculate the square root of 16 and stores it in the variable a\n",
        "\n",
        "\n",
        "# Calculate 3 to the power of 5 and stores it in the variable b\n",
        "\n",
        "\n",
        "# Calculate area of circle with radius = 3.0 by making use of the math.pi constant and store it in the variable c\n",
        "\n"
      ],
      "execution_count": null,
      "outputs": []
    },
    {
      "cell_type": "code",
      "metadata": {
        "id": "Yado0B99h2E_"
      },
      "source": [
        "# Write a function to convert temperature from Celsius to Fahrenheit scale.\n",
        "# oC to oF Conversion: Multipy by 9, then divide by 5, then add 32.\n",
        "\n",
        "# Note: Return a string of 2 decimal places.\n",
        "# In - Cel2Fah(28.0)\n",
        "# Out - '82.40'\n",
        "# In - Cel2Fah(0.00)\n",
        "# Out - '32.00'"
      ],
      "execution_count": null,
      "outputs": []
    },
    {
      "cell_type": "code",
      "metadata": {
        "id": "n7lsFol9h2ID"
      },
      "source": [
        "# Write a function to compute the BMI of a person.\n",
        "#     BMI = weight(kg)  /  ( height(m)*height(m) )\n",
        "\n",
        "# Note: Return a string of 1 decimal place.\n",
        "# In - BMI(63, 1.7)\n",
        "# Out - '21.8'\n",
        "# In - BMI(110, 2)\n",
        "# Out - '27.5'\n",
        "\n"
      ],
      "execution_count": null,
      "outputs": []
    },
    {
      "cell_type": "code",
      "metadata": {
        "id": "f2tV1AU8h2LN"
      },
      "source": [
        "# Write a function percent(value, total) that takes in two numbers as arguments, and returns the percentage value as an integer.\n",
        "# In - percent(46, 90)\n",
        "# Out - 51\n",
        "# In - percent(51, 51)\n",
        "# Out - 100\n",
        "# In - percent(63, 12)\n",
        "# Out - 525\n",
        "\n"
      ],
      "execution_count": null,
      "outputs": []
    },
    {
      "cell_type": "code",
      "metadata": {
        "id": "QyoWR3dQh2OZ"
      },
      "source": [
        "# Write a function to compute the hypotenuse given sides a and b of the triangle.\n",
        "# Hint: You can use math.sqrt(x) to compute the square root of x.\n",
        "# In - hypotenuse(3, 4)\n",
        "# Out - 5\n",
        "# In - hypotenuse(5, 12)\n",
        "# Out - 13\n",
        "\n"
      ],
      "execution_count": null,
      "outputs": []
    },
    {
      "cell_type": "code",
      "metadata": {
        "id": "XthPUigkh2Ro"
      },
      "source": [
        "# Write a function getSumOfLastDigits() that takes in a list of positive numbers and returns the sum of all the last digits in the list.\n",
        "# getSumOfLastDigits([2, 3, 4])\n",
        "# 9\n",
        "# getSumOfLastDigits([1, 23, 456])\n",
        "# 10"
      ],
      "execution_count": null,
      "outputs": []
    },
    {
      "cell_type": "code",
      "metadata": {
        "id": "T-uIqm9Mh2Un"
      },
      "source": [
        "# Write a function that uses a default value.\n",
        "# In - introduce('Lim', 20)\n",
        "# Out - 'My name is Lim. I am 20 years old.'\n",
        "# In - introduce('Ahmad')\n",
        "# Out - 'My name is Ahmad. My age is secret.'\n",
        "\n"
      ],
      "execution_count": null,
      "outputs": []
    },
    {
      "cell_type": "code",
      "metadata": {
        "id": "h0pXo5vH6wA-"
      },
      "source": [
        "# Write a function isEquilateral(x, y, z) that accepts the 3 sides of a triangle as arguments. \n",
        "# The program should return True if it is an equilateral triangle.\n",
        "\n",
        "# In - isEquilateral(2, 4, 3)\n",
        "# False - False\n",
        "# In - isEquilateral(3, 3, 3)\n",
        "# Out - True\n",
        "# In - isEquilateral(-3, -3, -3)\n",
        "# Out - False"
      ],
      "execution_count": null,
      "outputs": []
    },
    {
      "cell_type": "code",
      "metadata": {
        "id": "3NvcKCkn6wFy"
      },
      "source": [
        "# For a quadratic equation in the form of ax2+bx+c, the discriminant, D is b2-4ac. Write a function to compute the discriminant, D.\n",
        "# In - quadratic(1, 2, 3)\n",
        "# Out - 'The discriminant is -8.'\n",
        "# In - quadratic(1, 3, 2)\n",
        "# Out - 'The discriminant is 1.'\n",
        "# In - quadratic(1, 4, 4)\n",
        "# Out - 'The discriminant is 0.'\n",
        "\n",
        "\n"
      ],
      "execution_count": null,
      "outputs": []
    },
    {
      "cell_type": "code",
      "metadata": {
        "id": "ihmuttBS6wJQ",
        "colab": {
          "base_uri": "https://localhost:8080/",
          "height": 34
        },
        "outputId": "0ef031e9-dec6-4ffe-b1ea-38d836dbcdcf"
      },
      "source": [
        "# Define a function calls addFirstAndLast(x) that takes in a list of numbers and returns the sum of the first and last numbers.\n",
        "# In - addFirstAndLast([])\n",
        "# Out - 0\n",
        "# In - addFirstAndLast([2, 7, 3])\n",
        "# Out - 5\n",
        "# In - addFirstAndLast([10])\n",
        "# Out - 10\n",
        "\n",
        "def addFirstAndLast(lst):\n",
        "  if len(lst) == 1:\n",
        "    return lst[0]\n",
        "  elif lst:\n",
        "    return lst[0] + lst[-1]\n",
        "  else:\n",
        "    return 'List is empty'\n",
        "\n",
        "addFirstAndLast([2,7,3])"
      ],
      "execution_count": null,
      "outputs": [
        {
          "output_type": "execute_result",
          "data": {
            "text/plain": [
              "5"
            ]
          },
          "metadata": {
            "tags": []
          },
          "execution_count": 13
        }
      ]
    },
    {
      "cell_type": "code",
      "metadata": {
        "id": "lEt9HNPI6wM0",
        "colab": {
          "base_uri": "https://localhost:8080/",
          "height": 34
        },
        "outputId": "b07e15c3-a864-454c-aef5-1f1f0e07b39a"
      },
      "source": [
        "# Complete the 'lambda' expression so that it returns True if the argument is an even number, and False otherwise.\n",
        "\n",
        "(lambda num : True if num%2 == 0 else False)(6)"
      ],
      "execution_count": null,
      "outputs": [
        {
          "output_type": "execute_result",
          "data": {
            "text/plain": [
              "True"
            ]
          },
          "metadata": {
            "tags": []
          },
          "execution_count": 6
        }
      ]
    },
    {
      "cell_type": "code",
      "metadata": {
        "id": "JYWSZXPg6wQN",
        "colab": {
          "base_uri": "https://localhost:8080/",
          "height": 35
        },
        "outputId": "7b71e08d-573f-4d03-d5e3-e220df4c3b90"
      },
      "source": [
        "# getScore.__doc__\n",
        "# 'A function that computes and returns the final score.'\n",
        "\n",
        "def getScore():\n",
        "  ''''A function that computes and returns the final score.'''\n",
        "  pass\n",
        "getScore.__doc__"
      ],
      "execution_count": null,
      "outputs": [
        {
          "output_type": "execute_result",
          "data": {
            "application/vnd.google.colaboratory.intrinsic+json": {
              "type": "string"
            },
            "text/plain": [
              "\"'A function that computes and returns the final score.\""
            ]
          },
          "metadata": {
            "tags": []
          },
          "execution_count": 3
        }
      ]
    },
    {
      "cell_type": "code",
      "metadata": {
        "id": "zmi81hi76wTK",
        "colab": {
          "base_uri": "https://localhost:8080/",
          "height": 34
        },
        "outputId": "232b4456-63ad-4582-d2cd-d888952dc957"
      },
      "source": [
        "# In Python, it is possible to pass a function as a argument to another function. \n",
        "# Write a function useFunction(func, num) that takes in a function and a number as arguments. \n",
        "# The useFunction should produce the output shown in the examples given below.\n",
        "\n",
        "# def addOne(x):\n",
        "#   return x + 1\n",
        "# useFunction(addOne, 4)\n",
        "# 25\n",
        "# useFunction(addOne, 9)\n",
        "# 100\n",
        "# useFunction(addOne, 0)\n",
        "# 1\n",
        "\n",
        "\n",
        "def addOne(x):\n",
        "  return x + 1\n",
        "\n",
        "def useFunction(addOne, n):\n",
        "  print(addOne(n)**2)\n",
        "\n",
        "useFunction(addOne, 4)\n",
        "\n",
        "\n"
      ],
      "execution_count": null,
      "outputs": [
        {
          "output_type": "stream",
          "text": [
            "25\n"
          ],
          "name": "stdout"
        }
      ]
    },
    {
      "cell_type": "code",
      "metadata": {
        "id": "JJm1zFMX6wWK"
      },
      "source": [
        "# def f1():\n",
        "#   print('This is f1 function')\n",
        "#   f1()\n",
        "# f1()"
      ],
      "execution_count": null,
      "outputs": []
    },
    {
      "cell_type": "code",
      "metadata": {
        "id": "PBvBwg0O6waD",
        "colab": {
          "base_uri": "https://localhost:8080/",
          "height": 34
        },
        "outputId": "57768b69-c749-4d88-be06-7a9d41a98de2"
      },
      "source": [
        "print('\\\\t')"
      ],
      "execution_count": null,
      "outputs": [
        {
          "output_type": "stream",
          "text": [
            "\\t\n"
          ],
          "name": "stdout"
        }
      ]
    }
  ]
}