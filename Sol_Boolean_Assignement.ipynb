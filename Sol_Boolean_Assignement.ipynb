{
 "cells": [
  {
   "cell_type": "code",
   "execution_count": 1,
   "metadata": {
    "colab": {
     "base_uri": "https://localhost:8080/"
    },
    "executionInfo": {
     "elapsed": 1303,
     "status": "ok",
     "timestamp": 1613111202422,
     "user": {
      "displayName": "Abhishek Gupta",
      "photoUrl": "",
      "userId": "01308143559053085164"
     },
     "user_tz": -330
    },
    "id": "7JIFn6BP4M0R",
    "outputId": "33047161-8746-480f-c2ec-8b3ae85d8088"
   },
   "outputs": [
    {
     "name": "stdout",
     "output_type": "stream",
     "text": [
      "<class 'bool'>\n",
      "140726487799632\n"
     ]
    }
   ],
   "source": [
    "#Declare a boolean value and store it in a variable. \n",
    "bool_var = True\n",
    "\n",
    "\n",
    "#Check the type and print the id of the same.\n",
    "print(type(bool_var))\n",
    "print(id(bool_var))\n",
    "\n"
   ]
  },
  {
   "cell_type": "code",
   "execution_count": 2,
   "metadata": {
    "colab": {
     "base_uri": "https://localhost:8080/"
    },
    "executionInfo": {
     "elapsed": 760,
     "status": "ok",
     "timestamp": 1613111341097,
     "user": {
      "displayName": "Abhishek Gupta",
      "photoUrl": "",
      "userId": "01308143559053085164"
     },
     "user_tz": -330
    },
    "id": "o9bjjhN64kAP",
    "outputId": "86f385e0-05de-4a17-892d-60d7b5dd4c91"
   },
   "outputs": [
    {
     "name": "stdout",
     "output_type": "stream",
     "text": [
      "140726487799632\n",
      "140726487799632\n"
     ]
    }
   ],
   "source": [
    "#Take one boolean value\n",
    "#Assign it to two different variables.\n",
    "\n",
    "bool_var_1 = True\n",
    "bool_var_2 = True\n",
    "\n",
    "\n",
    "\n",
    "#Check the id of both the variables. It should come same. Check why?\n",
    "print(id(bool_var_1))\n",
    "print(id(bool_var_2))\n",
    "\n",
    "\n",
    "\n",
    "\n",
    "\n"
   ]
  },
  {
   "cell_type": "code",
   "execution_count": 6,
   "metadata": {
    "colab": {
     "base_uri": "https://localhost:8080/"
    },
    "executionInfo": {
     "elapsed": 9058,
     "status": "ok",
     "timestamp": 1613111578793,
     "user": {
      "displayName": "Abhishek Gupta",
      "photoUrl": "",
      "userId": "01308143559053085164"
     },
     "user_tz": -330
    },
    "id": "yr4ETGSf4l5y",
    "outputId": "b7c7ba34-1667-480e-db63-60a37eca9d69"
   },
   "outputs": [
    {
     "name": "stdout",
     "output_type": "stream",
     "text": [
      "Enter any number between 0-256: 65\n",
      "Enter any number between 0-256: 55\n",
      "sum of bool_var_1 is bool_var_2 is :   2\n",
      "Difference of bool_var_1 is bool_var_2 is :   0\n",
      "Product of bool_var_1 is bool_var_2 is :   1\n",
      "Division result of bool_var_1 by bool_var_2 is :   1.0\n",
      "Quotient result of bool_var_1 by bool_var_2 is :   1\n",
      "Remainder result of bool_var_1 by bool_var_2 is :   0\n",
      "bool_var_1 to the power bool_var_2 is :   1\n"
     ]
    }
   ],
   "source": [
    "#Arithmatic Operations on boolean data\n",
    "#Take two different boolean values.\n",
    "#Store them in two different variables.\n",
    "\n",
    "\n",
    "\n",
    "#Do below operations on them:-\n",
    "    #Find sum of both values\n",
    "    \n",
    "\n",
    "\n",
    "    #Find differce between them\n",
    "\n",
    "\n",
    "\n",
    "    #Find the product of both.\n",
    "\n",
    "\n",
    "\n",
    "    #Find value after dividing first value with second value\n",
    "    \n",
    "\n",
    "    \n",
    "    #Find the remainder after dividing first value with second value\n",
    "    \n",
    "\n",
    "    \n",
    "    #Find the quotient after dividing first value with second value\n",
    "    \n",
    "\n",
    "    \n",
    "    #Find the result of first value to the power of second value.\n",
    "    \n",
    "bool_var_1 = bool(int(input('Enter any number between 0-256: ')))\n",
    "bool_var_2 = bool(int(input('Enter any number between 0-256: ')))\n",
    "\n",
    "print('sum of bool_var_1 is bool_var_2 is :  ', bool_var_1 + bool_var_2)\n",
    "print('Difference of bool_var_1 is bool_var_2 is :  ', bool_var_1 - bool_var_2)\n",
    "print('Product of bool_var_1 is bool_var_2 is :  ', bool_var_1 * bool_var_2)\n",
    "print('Division result of bool_var_1 by bool_var_2 is :  ', bool_var_1 / bool_var_2)\n",
    "print('Quotient result of bool_var_1 by bool_var_2 is :  ', bool_var_1 // bool_var_2)\n",
    "print('Remainder result of bool_var_1 by bool_var_2 is :  ', bool_var_1 % bool_var_2)\n",
    "print('bool_var_1 to the power bool_var_2 is :  ', bool_var_1 ** bool_var_2)\n",
    "\n",
    "\n",
    "\n",
    "\n",
    "\n",
    "\n",
    "\n",
    "\n",
    "\n",
    "    "
   ]
  },
  {
   "cell_type": "code",
   "execution_count": 9,
   "metadata": {
    "colab": {
     "base_uri": "https://localhost:8080/"
    },
    "executionInfo": {
     "elapsed": 5417,
     "status": "ok",
     "timestamp": 1613111674792,
     "user": {
      "displayName": "Abhishek Gupta",
      "photoUrl": "",
      "userId": "01308143559053085164"
     },
     "user_tz": -330
    },
    "id": "xG4mX84E4n2O",
    "outputId": "5c641fad-e17d-41db-c59c-c6dc930791e0"
   },
   "outputs": [
    {
     "name": "stdout",
     "output_type": "stream",
     "text": [
      "Enter any number between 0-256: 55\n",
      "Enter any number between 0-256: 45\n",
      "bool_var_1 > bool_var_2 False\n",
      "bool_var_1 < bool_var_2 False\n",
      "bool_var_1 <= bool_var_2 True\n",
      "bool_var_1 >= bool_var_2 True\n"
     ]
    }
   ],
   "source": [
    "#Comparison Operators on boolean values\n",
    "#Take two different boolean values.\n",
    "#Store them in two different variables.\n",
    "\n",
    "\n",
    "\n",
    "#Do below operations on them:-\n",
    "    #Compare these two values with below operator:-\n",
    "        #Greater than, '>'\n",
    "    \n",
    "\n",
    "\n",
    "        #less than, '<'\n",
    "    \n",
    "\n",
    "        #Greater than or equal to, '>='\n",
    "\n",
    "\n",
    "        #Less than or equal to, '<='    \n",
    "\n",
    "\n",
    "#Observe their output(return type should be boolean)\n",
    "\n",
    "bool_var_1 = bool(int(input('Enter any number between 0-256: ')))\n",
    "bool_var_2 = bool(int(input('Enter any number between 0-256: ')))\n",
    "\n",
    "print('bool_var_1 > bool_var_2', bool_var_1 > bool_var_2)\n",
    "print('bool_var_1 < bool_var_2', bool_var_1 < bool_var_2)\n",
    "print('bool_var_1 <= bool_var_2', bool_var_1 <= bool_var_2)\n",
    "print('bool_var_1 >= bool_var_2', bool_var_1 >= bool_var_2)\n",
    "\n",
    "\n",
    "\n",
    "\n",
    "\n",
    "\n"
   ]
  },
  {
   "cell_type": "code",
   "execution_count": 10,
   "metadata": {
    "id": "TUIo2Z9V4qBJ"
   },
   "outputs": [
    {
     "name": "stdout",
     "output_type": "stream",
     "text": [
      "Enter any number between 0-256: 55\n",
      "Enter any number between 0-256: 54\n",
      "bool_var_1 == bool_var_2 True\n",
      "bool_var_1 != bool_var_2 False\n"
     ]
    }
   ],
   "source": [
    "#Equality Operator\n",
    "#Take two different boolean values.\n",
    "#Store them in two different variables.\n",
    "\n",
    "\n",
    "\n",
    "#Equuate them using equality operator (==, !=)\n",
    "\n",
    "\n",
    "\n",
    "#Observe the output(return type should be boolean)\n",
    "\n",
    "bool_var_1 = bool(int(input('Enter any number between 0-256: ')))\n",
    "bool_var_2 = bool(int(input('Enter any number between 0-256: ')))\n",
    "print('bool_var_1 == bool_var_2', bool_var_1 == bool_var_2)\n",
    "print('bool_var_1 != bool_var_2', bool_var_1 != bool_var_2)\n",
    "\n",
    "\n",
    "\n"
   ]
  },
  {
   "cell_type": "code",
   "execution_count": 11,
   "metadata": {
    "id": "XukEq5E44rxv"
   },
   "outputs": [
    {
     "name": "stdout",
     "output_type": "stream",
     "text": [
      "True\n",
      "False\n",
      "False\n",
      "False\n",
      "True\n",
      "True\n",
      "True\n",
      "False\n",
      "False\n",
      "True\n"
     ]
    }
   ],
   "source": [
    "#Logical operators\n",
    "#Observe the output of below code\n",
    "#Cross check the output manually\n",
    "\n",
    "print(True and True)        #----------------------------------------->Output is True\n",
    "print(False and True)        #----------------------------------------->Output is False\n",
    "print(True and False)        #----------------------------------------->Output is False\n",
    "print(False and False)       #----------------------------------------->Output is False\n",
    "\n",
    "print(True or True)          #----------------------------------------->Output is True\n",
    "print(False or True)         #----------------------------------------->Output is True\n",
    "print(True or False)         #----------------------------------------->Output is True\n",
    "print(False or False)        #----------------------------------------->Output is False\n",
    "\n",
    "print(not True)              #----------------------------------------->Output is False\n",
    "print(not False)             #----------------------------------------->Output is True"
   ]
  },
  {
   "cell_type": "code",
   "execution_count": 12,
   "metadata": {
    "colab": {
     "base_uri": "https://localhost:8080/"
    },
    "executionInfo": {
     "elapsed": 1565,
     "status": "ok",
     "timestamp": 1613111151406,
     "user": {
      "displayName": "Abhishek Gupta",
      "photoUrl": "",
      "userId": "01308143559053085164"
     },
     "user_tz": -330
    },
    "id": "02jPgt094vK-",
    "outputId": "d9039a2c-b421-4e0b-e570-1c244332a728"
   },
   "outputs": [
    {
     "name": "stdout",
     "output_type": "stream",
     "text": [
      "True\n",
      "True\n",
      "True\n",
      "-2\n",
      "4\n",
      "0\n"
     ]
    }
   ],
   "source": [
    "#Bitwise Operators\n",
    "#Do below operations on the values provided below:-\n",
    "    #Bitwise and(&) -----------------------------------------> True, True    -------> Output is True\n",
    "    \n",
    "\n",
    "\n",
    "    #Bitwise or(|)  -----------------------------------------> True, False   -------> Output is True\n",
    "\n",
    "\n",
    "\n",
    "    #Bitwise(^)     -----------------------------------------> True, False   -------> Output is True\n",
    "\n",
    "  \n",
    "\n",
    "    #Bitwise negation(~) ------------------------------------> True          -------> Output is -2\n",
    "\n",
    "   \n",
    "\n",
    "    #Bitwise left shift  ------------------------------------> True,2        -------> Output is 4\n",
    "\n",
    "\n",
    "\n",
    "    #Bitwise right shift ------------------------------------> True,2        -------> Output is 0\n",
    "\n",
    "\n",
    "\n",
    "#Cross check the output manually\n",
    "print(True & True)\n",
    "print(True | False)\n",
    "print(True ^ False)\n",
    "print(~True)\n",
    "print(True << 2)\n",
    "print(True >> 2)\n",
    "\n",
    "\n",
    "\n",
    "\n",
    "\n",
    "\n",
    "\n",
    "\n"
   ]
  },
  {
   "cell_type": "code",
   "execution_count": 13,
   "metadata": {
    "id": "cy5i7sWz4v_c"
   },
   "outputs": [
    {
     "name": "stdout",
     "output_type": "stream",
     "text": [
      "True\n",
      "False\n",
      "True\n",
      "False\n"
     ]
    }
   ],
   "source": [
    "#What is the output of expression inside print statement. Cross check before running the program.\n",
    "a = True\n",
    "b = True\n",
    "print(a is b)          #True or False?   #\n",
    "print(a is not b)      #True or False?\n",
    "\n",
    "a = False\n",
    "b = False\n",
    "print(a is b)          #True or False?\n",
    "print(a is not b)      #True or False?\n"
   ]
  },
  {
   "cell_type": "code",
   "execution_count": 14,
   "metadata": {
    "id": "AOcPQi8544M-"
   },
   "outputs": [
    {
     "name": "stdout",
     "output_type": "stream",
     "text": [
      "True\n",
      "True\n",
      "True\n",
      "True\n",
      "True\n"
     ]
    }
   ],
   "source": [
    "#Membership operation\n",
    "#in, not in are two membership operators and it returns boolean value\n",
    "\n",
    "print(True in [10,10.20,10+20j,'Python', True])\n",
    "print(False in (10,10.20,10+20j,'Python', False))\n",
    "print(True in {1,2,3, True})\n",
    "print(True in {True:100, False:200, True:300})\n",
    "print(False in {True:100, False:200, True:300})"
   ]
  },
  {
   "cell_type": "code",
   "execution_count": null,
   "metadata": {
    "id": "MPa1Lpco46Ja"
   },
   "outputs": [],
   "source": []
  }
 ],
 "metadata": {
  "colab": {
   "authorship_tag": "ABX9TyMaWD77gm8/YpBMU+37uAcQ",
   "name": "Sol_Boolean_Assignement.ipynb",
   "provenance": [
    {
     "file_id": "1wADaUpN0law4PANdldEAoj1noqEdLXVU",
     "timestamp": 1613111010745
    }
   ]
  },
  "kernelspec": {
   "display_name": "Python 3 (ipykernel)",
   "language": "python",
   "name": "python3"
  },
  "language_info": {
   "codemirror_mode": {
    "name": "ipython",
    "version": 3
   },
   "file_extension": ".py",
   "mimetype": "text/x-python",
   "name": "python",
   "nbconvert_exporter": "python",
   "pygments_lexer": "ipython3",
   "version": "3.9.7"
  }
 },
 "nbformat": 4,
 "nbformat_minor": 1
}
