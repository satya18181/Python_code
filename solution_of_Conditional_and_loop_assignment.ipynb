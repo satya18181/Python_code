{
 "cells": [
  {
   "cell_type": "markdown",
   "metadata": {
    "id": "wNRNTbrsc53d"
   },
   "source": [
    "# If - elif - else statement"
   ]
  },
  {
   "cell_type": "code",
   "execution_count": null,
   "metadata": {
    "colab": {
     "base_uri": "https://localhost:8080/"
    },
    "id": "MiPfTnBycxNa",
    "outputId": "4d2833d2-0cb6-4f13-c279-25eded5577ef"
   },
   "outputs": [
    {
     "name": "stdout",
     "output_type": "stream",
     "text": [
      "Enter a number: 10\n",
      "Number is outside the range!!!\n"
     ]
    }
   ],
   "source": [
    "#W. A P. which takes one number from 0 to 9 from the user and prints it in the word. And if the word is not from 0 to 9 then\n",
    "#it should print that number is outside of the range and program should exit.\n",
    "# For exapmple:- \n",
    "# input = 1\n",
    "# output = one\n",
    "\n",
    "num = int(input('Enter a number: '))\n",
    "if num == 0:\n",
    "  print('Zero')\n",
    "elif num ==1:\n",
    "  print('One')\n",
    "elif num ==2:\n",
    "  print('Two')\n",
    "elif num ==4:\n",
    "  print('Four')\n",
    "elif num ==5:\n",
    "  print('Five')\n",
    "elif num ==6:\n",
    "  print('Six')\n",
    "elif num ==7:\n",
    "  print('Seven')\n",
    "elif num ==8:\n",
    "  print('Eight')\n",
    "elif num ==9:\n",
    "  print('Nine')\n",
    "else:\n",
    "  print('Number is outside the range!!!')\n"
   ]
  },
  {
   "cell_type": "code",
   "execution_count": null,
   "metadata": {
    "colab": {
     "base_uri": "https://localhost:8080/",
     "height": 504
    },
    "id": "vEMNOv9zdA39",
    "outputId": "e713ae2f-b3c8-46e6-a425-3c331f6ea4cb"
   },
   "outputs": [
    {
     "name": "stdout",
     "output_type": "stream",
     "text": [
      "Enter 1st number: 10\n",
      "Enter 2nd number: 3\n",
      "Please select any one operation from below:-\n",
      "\n",
      "  \tTo add enter 1\n",
      "\n",
      "  \tTo subtract enter 2\n",
      "\n",
      "  \tTo multiply enter 3\n",
      "\n",
      "  \tTo divide enter 4\n",
      "\n",
      "  \tTo divide and find quotient enter 5\n",
      "\n",
      "  \tTo divide and find remainder enter 6\n",
      "\n",
      "  \tTo divide and find num1 to the power of num2 enter 7\n",
      "\n",
      "  \tTo exit Enter 8\n",
      "\n",
      "  8\n"
     ]
    },
    {
     "ename": "SystemExit",
     "evalue": "ignored",
     "output_type": "error",
     "traceback": [
      "An exception has occurred, use %tb to see the full traceback.\n",
      "\u001b[0;31mSystemExit\u001b[0m\u001b[0;31m:\u001b[0m 0\n"
     ]
    },
    {
     "name": "stderr",
     "output_type": "stream",
     "text": [
      "/usr/local/lib/python3.6/dist-packages/IPython/core/interactiveshell.py:2890: UserWarning: To exit: use 'exit', 'quit', or Ctrl-D.\n",
      "  warn(\"To exit: use 'exit', 'quit', or Ctrl-D.\", stacklevel=1)\n"
     ]
    }
   ],
   "source": [
    "#W. A P. to implement calculator but the operation to be done and two numbers will be taken as input from user:-\n",
    "#Operation console should show below:-\n",
    "#     Please select any one operation from below:-\n",
    "#         * To add enter 1\n",
    "#         * to subtract enter 2\n",
    "#         * To multiply enter 3\n",
    "#         * To divide enter 4\n",
    "#         * To divide and find quotient enter 5\n",
    "#         * To divide and find remainder enter 6\n",
    "#         * To divide and find num1 to the power of num2 enter 7\n",
    "#         * To Come out of the program enter 8\n",
    "import sys\n",
    "num1 = int(input('Enter 1st number: '))\n",
    "num2 = int(input('Enter 2nd number: '))\n",
    "while True:\n",
    "  op = int(input('''Please select any one operation from below:-\\n\n",
    "  \\tTo add enter 1\\n\n",
    "  \\tTo subtract enter 2\\n\n",
    "  \\tTo multiply enter 3\\n\n",
    "  \\tTo divide enter 4\\n\n",
    "  \\tTo divide and find quotient enter 5\\n\n",
    "  \\tTo divide and find remainder enter 6\\n\n",
    "  \\tTo divide and find num1 to the power of num2 enter 7\\n\n",
    "  \\tTo exit Enter 8\\n\n",
    "  '''))\n",
    "  if op == 1:\n",
    "    print(num1+num2)\n",
    "  elif op == 3:\n",
    "    if num1>num2:\n",
    "      print(num1-num2)\n",
    "    else:\n",
    "      print(num2-num1)\n",
    "  elif op == 4:\n",
    "    print(num1*num2)\n",
    "  elif op == 5:\n",
    "    print(num1/num2)\n",
    "  elif op == 6:\n",
    "    print(num1//num2)\n",
    "  elif op == 7:\n",
    "    print(num1**num2)\n",
    "  elif op == 8:\n",
    "    sys.exit(0)\n",
    "  else:\n",
    "    print('wrong input\\nTry Again\\n\\n')\n"
   ]
  },
  {
   "cell_type": "code",
   "execution_count": null,
   "metadata": {
    "id": "1e2gwYLqdC1s"
   },
   "outputs": [],
   "source": [
    "#W A P to check whether a year entered by user is an leap year or not?\n",
    "#Check with below input:-\n",
    "    #leap year:- 2012, 1968, 2004, 1200, 1600,2400\n",
    "    #Non-lear year:- 1971, 2006, 1700,1800,1900\n",
    "    \n"
   ]
  },
  {
   "cell_type": "code",
   "execution_count": null,
   "metadata": {
    "id": "_tpXv1EtdEre"
   },
   "outputs": [],
   "source": [
    "#W A P which takes one number from the user and checks whether it is an even or odd number?, If it even then prints number is \n",
    "#even number else prints that number is odd number.\n",
    "\n"
   ]
  },
  {
   "cell_type": "code",
   "execution_count": null,
   "metadata": {
    "id": "Q1HumymCdG6i"
   },
   "outputs": [],
   "source": [
    "#W A P which takes two numbers from the user and prints below output:-\n",
    "#     1. num1 is greater than num2 if num1 is greater than num2\n",
    "#     2. num1 is smaller than num2 if num1 is smaller than num2\n",
    "#     3. num1 is equal to num2 if num1 and num2 are equal\n",
    "\n",
    "#Note:- 1. Do this problem using if - else \n",
    "#       2. Do this using ternary operator\n",
    "\n"
   ]
  },
  {
   "cell_type": "code",
   "execution_count": null,
   "metadata": {
    "id": "LR6TVB-DdOPf"
   },
   "outputs": [],
   "source": [
    "#W A P which takes three numbers from the user and prints below output:-\n",
    "#     1. num1 is greater than num2 and num3 if num1 is greater than num2 and num3\n",
    "#     2. num2 is greater than num1 and num3 if num2 is greater than num1 and num3\n",
    "#     3. num3 is greater than num1 and num2 if num3 is greater than num1 and num2\n",
    "\n",
    "#Note:- 1. Do this problem using if - elif - else \n",
    "#       2. Do this using ternary operator\n",
    "\n",
    "# a = a if a>b else b\n",
    "expr if cond1 else expr2 if cond2 else expr3\n"
   ]
  },
  {
   "cell_type": "markdown",
   "metadata": {
    "id": "IoOLQMUGdSox"
   },
   "source": [
    "# Loops - for loop, while loop"
   ]
  },
  {
   "cell_type": "code",
   "execution_count": null,
   "metadata": {
    "id": "9K23Uld8dQfA"
   },
   "outputs": [],
   "source": [
    "#Write a Python program to find the length of the my_str using loop:-\n",
    "\n",
    "#Input:- 'Write a Python program to find the length of the my_str'\n",
    "#Output:- 55\n"
   ]
  },
  {
   "cell_type": "code",
   "execution_count": null,
   "metadata": {
    "id": "bp6AcqTsdYxy"
   },
   "outputs": [],
   "source": [
    "#Write a Python program to find the total number of times letter 'p' is appeared in the below string using loop:-\n",
    "    \n",
    "#Input:- 'peter piper picked a peck of pickled peppers.\\n'\n",
    "#Output:- 9\n",
    "\n"
   ]
  },
  {
   "cell_type": "code",
   "execution_count": null,
   "metadata": {
    "id": "xvxSBhTJdav1"
   },
   "outputs": [],
   "source": [
    "#Write a Python Program, to print all the indexes of all occurences of letter 'p' appeared in the string using loop:-\n",
    "    \n",
    "#Input:- 'peter piper picked a peck of pickled peppers.'\n",
    "#Output:- \n",
    "# 0\n",
    "# 6\n",
    "# 8\n",
    "# 12\n",
    "# 21\n",
    "# 29\n",
    "# 37\n",
    "# 39\n",
    "# 40"
   ]
  },
  {
   "cell_type": "code",
   "execution_count": null,
   "metadata": {
    "id": "79L_feMadbmw"
   },
   "outputs": [],
   "source": [
    "#Write a python program to find below output using loop:-\n",
    "\n",
    "#Input:- 'peter piper picked a peck of pickled peppers.'\n",
    "#Output:- ['peter', 'piper', 'picked', 'a', 'peck', 'of', 'pickled', 'peppers']"
   ]
  },
  {
   "cell_type": "code",
   "execution_count": null,
   "metadata": {
    "id": "vzs5AJ53deVS"
   },
   "outputs": [],
   "source": [
    "#Write a python program to find below output using loop:-\n",
    "\n",
    "#Input:- 'peter piper picked a peck of pickled peppers.'\n",
    "#Output:- 'peppers pickled of peck a picked piper peter'\n",
    "\n"
   ]
  },
  {
   "cell_type": "code",
   "execution_count": null,
   "metadata": {
    "id": "i-HP7DrCdhwS"
   },
   "outputs": [],
   "source": [
    "#Write a python program to find below output using loop:-\n",
    "\n",
    "#Input:- 'peter piper picked a peck of pickled peppers.'\n",
    "#Output:- '.sreppep delkcip fo kcep a dekcip repip retep'\n",
    "\n"
   ]
  },
  {
   "cell_type": "code",
   "execution_count": null,
   "metadata": {
    "id": "3rt6p0ytdkq0"
   },
   "outputs": [],
   "source": [
    "#Write a python program to find below output using loop:-\n",
    "\n",
    "#Input:- 'peter piper picked a peck of pickled peppers.'\n",
    "#Output:- 'retep repip dekcip a kcep fo delkcip sreppep'"
   ]
  },
  {
   "cell_type": "code",
   "execution_count": null,
   "metadata": {
    "id": "HdlAWgT2dnKO"
   },
   "outputs": [],
   "source": [
    "#Write a python program to find below output using loop:-\n",
    "\n",
    "#Input:- 'peter piper picked a peck of pickled peppers.'\n",
    "#Output:- 'Peter Piper Picked A Peck Of Pickled Peppers'"
   ]
  },
  {
   "cell_type": "code",
   "execution_count": null,
   "metadata": {
    "id": "OthUuacodrNl"
   },
   "outputs": [],
   "source": [
    "#Write a python program to find below output using loop:-\n",
    "\n",
    "#Input:- 'Peter Piper Picked A Peck Of Pickled Peppers.'\n",
    "#Output:- 'Peter piper picked a peck of pickled peppers'"
   ]
  },
  {
   "cell_type": "code",
   "execution_count": null,
   "metadata": {
    "colab": {
     "base_uri": "https://localhost:8080/",
     "height": 34
    },
    "id": "scmDJE-ldsI9",
    "outputId": "4b1d1979-9f4a-4bc6-c505-b88b1bbd4d5d"
   },
   "outputs": [
    {
     "name": "stdout",
     "output_type": "stream",
     "text": [
      "29\n"
     ]
    }
   ],
   "source": [
    "#Write a python program to implement index method using loop. If sub_str is found in my_str then it will print the index\n",
    "# of first occurrence of first character of matching string in my_str:-\n",
    "\n",
    "#Input:- my_str = 'Peter Piper Picked A Peck Of Pickled Peppers.', sub_str = 'Pickl'\n",
    "#Output:- 29\n",
    "\n"
   ]
  },
  {
   "cell_type": "code",
   "execution_count": null,
   "metadata": {
    "colab": {
     "base_uri": "https://localhost:8080/",
     "height": 51
    },
    "id": "Kq_fwdb_dvYE",
    "outputId": "c2bc60b2-dd25-4e8c-c3e5-1195848237b1"
   },
   "outputs": [
    {
     "name": "stdout",
     "output_type": "stream",
     "text": [
      "21\n",
      "Peter Piper Picked A Pack Of Pickled Peppers.\n"
     ]
    }
   ],
   "source": [
    "#Write a python program to implement replace method using loop. If sub_str is found in my_str then it will replace the first \n",
    "#occurrence of sub_str with new_str else it will will print sub_str not found:-\n",
    "\n",
    "#Input:- my_str = 'Peter Piper Picked A Peck Of Pickled Peppers.', sub_str = 'Peck', new_str = 'Pack'\n",
    "#Output:- 'Peter Piper Picked A Pack Of Pickled Peppers.'\n",
    "\n",
    "my_str = 'Peter Piper Picked A Peck Of Pickled Peppers.'\n",
    "sub_str = 'Peck'\n",
    "new_str1 = 'Pack'\n",
    "out_str = ''\n",
    "j = 0\n",
    "new_str = ''\n",
    "for i in range(len(my_str)):\n",
    "    if my_str[i] == sub_str[j]:\n",
    "        new_str += my_str[i]\n",
    "        j += 1\n",
    "        if len(new_str) == len(sub_str) and new_str == sub_str:\n",
    "            ind = i-(len(sub_str)-1)\n",
    "            print(ind)\n",
    "            out_str = my_str[:ind] + new_str1 + my_str[ind+(len(sub_str)):]\n",
    "            print(out_str)\n",
    "            break\n",
    "        elif len(new_str) == len(sub_str) and new_str != sub_str:\n",
    "            new_str = ''\n",
    "    elif i == (len(my_str)-1):\n",
    "        print('string not found!')\n",
    "    else:\n",
    "        new_str = ''\n",
    "        j = 0\n"
   ]
  },
  {
   "cell_type": "code",
   "execution_count": null,
   "metadata": {
    "colab": {
     "base_uri": "https://localhost:8080/",
     "height": 34
    },
    "id": "4Qes5D0cdyd1",
    "outputId": "90f4843b-3d76-46de-b33f-51bc4501d39b"
   },
   "outputs": [
    {
     "name": "stdout",
     "output_type": "stream",
     "text": [
      "*****************Peck************************\n"
     ]
    }
   ],
   "source": [
    "#Write a python program to find below output (implements rjust and ljust) using loop:-\n",
    "\n",
    "#Input:- 'Peter Piper Picked A Peck Of Pickled Peppers.', sub_str = 'Peck', \n",
    "#Output:- '*********************Peck********************'\n",
    "\n",
    "# my_str='Peter Piper Picked A Peck Of Pickled Peppers.'\n",
    "# sub_str='Peck'\n",
    "# out_str=''\n",
    "# i=0\n",
    "# while i in range(0,len(my_str),1):\n",
    "#     if my_str[i:(i+len(sub_str)):1]==sub_str:\n",
    "#         out_str=out_str+sub_str\n",
    "#         i = i+(len(sub_str)-1)\n",
    "#     else:\n",
    "#         out_str=out_str+'*'\n",
    "#     i=i+1\n",
    "# print(out_str)\n",
    "\n"
   ]
  },
  {
   "cell_type": "code",
   "execution_count": null,
   "metadata": {
    "colab": {
     "base_uri": "https://localhost:8080/"
    },
    "id": "DsOrb07Od0lR",
    "outputId": "44bba98d-40ac-42aa-ee9a-968d0d15cbb2"
   },
   "outputs": [
    {
     "name": "stdout",
     "output_type": "stream",
     "text": [
      "['This ', 'is', ' Python class']\n"
     ]
    }
   ],
   "source": [
    "#Write a python program to find below output using loop:-\n",
    "\n",
    "#Input:- 'This is Python class', sep = 'is', \n",
    "#Output:- ['This', 'is', 'Python class']\n",
    "\n",
    "\n",
    "inp_str='This is Python class'\n",
    "sep='is'\n",
    "out_str=''\n",
    "l_str=''\n",
    "r_str=''\n",
    "length=0\n",
    "out_lst=[]\n",
    "for letter in inp_str:\n",
    "    length+=1\n",
    "    out_str += letter\n",
    "    if sep in out_str:\n",
    "        l_str=inp_str[:length-len(sep):]\n",
    "        r_str=inp_str[length::]\n",
    "        out_str=''\n",
    "out_lst.append(l_str)\n",
    "out_lst.append(sep)\n",
    "out_lst.append(r_str)\n",
    "print(out_lst) ",
    "\n",
    "\n",
    "# my_str='This is Python Class '\n",
    "# my_str1 =''\n",
    "# my_str2 =''\n",
    "# my_lst =[]\n",
    "# sep = 'is'\n",
    "# x=0\n",
    "# for i in my_str:\n",
    "    \n",
    "#     if i !=' ':\n",
    "#         my_str1 += i    \n",
    "#     else:\n",
    "#         if sep not in my_lst:\n",
    "#             my_lst += [my_str1]\n",
    "#             my_str1 = ''\n",
    "#         else:\n",
    "#             my_str1=my_str1 + ' '\n",
    "# my_lst += [my_str1.strip()]\n",
    "# print(my_lst)\n",
    "\n",
    "\n",
    "\n",
    "\n",
    "# my_str='This is Python class'\n",
    "# sep_str=' is'\n",
    "# out_str=''\n",
    "# out_lst=[]\n",
    "# i=0\n",
    "# x=True\n",
    "# # print(my_str.partition(' is '))\n",
    "# while i in range(0,(len(my_str)),1):\n",
    "#     if my_str[i]==' ' and x==True and i<=(len(my_str)):\n",
    "#         out_lst.append(out_str)\n",
    "#         out_str=''\n",
    "#     if my_str[i:(i+len(sep_str)):1]==sep_str:  \n",
    "#             out_lst.append(sep_str)\n",
    "#             out_str=''  \n",
    "#             i = i+(len(sep_str))\n",
    "#             x=False\n",
    "#     if i ==(len(my_str)):\n",
    "#         out_lst.append(out_str)\n",
    "#     else: \n",
    "#         out_str=out_str+my_str[i]    \n",
    "#     i=i+1\n",
    "# out_lst.append(out_str)\n",
    "# print(out_lst) "
   ]
  },
  {
   "cell_type": "code",
   "execution_count": null,
   "metadata": {
    "colab": {
     "base_uri": "https://localhost:8080/"
    },
    "id": "jRnBVufmd2Ay",
    "outputId": "f2012261-9b0f-44eb-cf17-d88fbc0881b6"
   },
   "outputs": [
    {
     "name": "stdout",
     "output_type": "stream",
     "text": [
      "Rwvfql\n",
      "Enter a stringPython\n",
      "R{vfml\n"
     ]
    }
   ],
   "source": [
    "#Write a python program which takes one input string from user and encode it in below format:-\n",
    "#     1. #Input:- 'Python'\n",
    "       #Output:- 'R{vjqp'\n",
    "\n",
    "#Using loop\n",
    "# inp_str = 'Python'\n",
    "# out_str = ''\n",
    "# for i in inp_str:\n",
    "#   out_str = out_str + chr(ord(i)+2)\n",
    "# print(out_str)\n",
    "        \n",
    "# Using built-in function and list comprehension\n",
    "# ''.join([chr(ord(ele)+2) for ele in list('Python')])\n",
    "\n",
    "    # 2. #Input:- 'Python'\n",
    "    #    #Output:- 'Rwvfql'\n",
    "        \n",
    "# inp_str = 'Python'\n",
    "# out_str = ''\n",
    "# for ele in range(len(inp_str)):\n",
    "#   if ele%2 == 0:\n",
    "#     out_str += chr(ord(inp_str[ele])+2)\n",
    "#   else:\n",
    "#     out_str += chr(ord(inp_str[ele])-2)\n",
    "# print(out_str)\n",
    "        \n",
    "        \n",
    "        \n",
    "    # 3. #Input:- 'Python'\n",
    "    #    #Output:- 'R{vkfml'\n",
    "\n",
    "# inp = input(\"Enter a string\")\n",
    "# out = ''\n",
    "# for i in range(0, len(inp)):\n",
    "#   if i < len(inp)/2:\n",
    "#     out += chr(ord(inp[i]) + 2)\n",
    "#   else:\n",
    "#     out += chr(ord(inp[i]) - 2)\n",
    "# print(out)       \n",
    "        \n",
    "        \n",
    "        "
   ]
  }
 ],
 "metadata": {
  "colab": {
   "collapsed_sections": [],
   "name": "solution of Conditional_and_loop_assignment.ipynb",
   "provenance": []
  },
  "kernelspec": {
   "display_name": "Python 3",
   "language": "python",
   "name": "python3"
  },
  "language_info": {
   "codemirror_mode": {
    "name": "ipython",
    "version": 3
   },
   "file_extension": ".py",
   "mimetype": "text/x-python",
   "name": "python",
   "nbconvert_exporter": "python",
   "pygments_lexer": "ipython3",
   "version": "3.8.3"
  }
 },
 "nbformat": 4,
 "nbformat_minor": 1
}
