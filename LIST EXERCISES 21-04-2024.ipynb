{
 "cells": [
  {
   "cell_type": "markdown",
   "id": "998587de",
   "metadata": {},
   "source": [
    "1. Python program to interchange first and last elements in a list"
   ]
  },
  {
   "cell_type": "code",
   "execution_count": 1,
   "id": "b29b5fff",
   "metadata": {},
   "outputs": [],
   "source": [
    "def interchange_first_last(x):\n",
    "    x[0],x[-1]=x[-1],x[0]\n",
    "    return x"
   ]
  },
  {
   "cell_type": "code",
   "execution_count": 2,
   "id": "93a04156",
   "metadata": {},
   "outputs": [],
   "source": [
    "x=[9, 11, 5, 3, 6, 27, 4]"
   ]
  },
  {
   "cell_type": "code",
   "execution_count": 3,
   "id": "84ed02e5",
   "metadata": {},
   "outputs": [
    {
     "data": {
      "text/plain": [
       "[4, 11, 5, 3, 6, 27, 9]"
      ]
     },
     "execution_count": 3,
     "metadata": {},
     "output_type": "execute_result"
    }
   ],
   "source": [
    "interchange_first_last(x)"
   ]
  },
  {
   "cell_type": "markdown",
   "id": "432ee274",
   "metadata": {},
   "source": [
    "2. Python Program to Swap Two Elements in a List"
   ]
  },
  {
   "cell_type": "code",
   "execution_count": 4,
   "id": "97eef8b3",
   "metadata": {},
   "outputs": [],
   "source": [
    "def swap_two_ele(x):\n",
    "    x[1],x[2]=x[2],x[1]\n",
    "    return x"
   ]
  },
  {
   "cell_type": "code",
   "execution_count": 5,
   "id": "8d00f375",
   "metadata": {},
   "outputs": [],
   "source": [
    "x=[23, 65, 19, 90]"
   ]
  },
  {
   "cell_type": "code",
   "execution_count": 6,
   "id": "e298767f",
   "metadata": {},
   "outputs": [
    {
     "data": {
      "text/plain": [
       "[23, 19, 65, 90]"
      ]
     },
     "execution_count": 6,
     "metadata": {},
     "output_type": "execute_result"
    }
   ],
   "source": [
    "swap_two_ele(x)"
   ]
  },
  {
   "cell_type": "markdown",
   "id": "f991dbba",
   "metadata": {},
   "source": [
    "3. Python – Swap elements in String list"
   ]
  },
  {
   "cell_type": "code",
   "execution_count": 7,
   "id": "e3578acf",
   "metadata": {},
   "outputs": [],
   "source": [
    "x= ['dog','egg','cake','veg','nest']"
   ]
  },
  {
   "cell_type": "code",
   "execution_count": 9,
   "id": "3977f853",
   "metadata": {},
   "outputs": [
    {
     "data": {
      "text/plain": [
       "\"['dog', 'egg', 'cake', 'veg', 'nest']\""
      ]
     },
     "execution_count": 9,
     "metadata": {},
     "output_type": "execute_result"
    }
   ],
   "source": [
    "str(x)"
   ]
  },
  {
   "cell_type": "code",
   "execution_count": 10,
   "id": "e0ab9b55",
   "metadata": {},
   "outputs": [],
   "source": [
    "y=[sub.replace('g','e').replace('e','k') for sub in x]"
   ]
  },
  {
   "cell_type": "code",
   "execution_count": 11,
   "id": "d89797a5",
   "metadata": {},
   "outputs": [
    {
     "data": {
      "text/plain": [
       "\"['dok', 'kkk', 'cakk', 'vkk', 'nkst']\""
      ]
     },
     "execution_count": 11,
     "metadata": {},
     "output_type": "execute_result"
    }
   ],
   "source": [
    "str(y)"
   ]
  },
  {
   "cell_type": "markdown",
   "id": "7b4f8237",
   "metadata": {},
   "source": [
    "4. Find the Length of a List Using len() Function"
   ]
  },
  {
   "cell_type": "code",
   "execution_count": 12,
   "id": "3b59c22e",
   "metadata": {},
   "outputs": [],
   "source": [
    "x= [10, 20, 30]"
   ]
  },
  {
   "cell_type": "code",
   "execution_count": 13,
   "id": "b065d588",
   "metadata": {},
   "outputs": [
    {
     "data": {
      "text/plain": [
       "3"
      ]
     },
     "execution_count": 13,
     "metadata": {},
     "output_type": "execute_result"
    }
   ],
   "source": [
    "len(x)"
   ]
  },
  {
   "cell_type": "markdown",
   "id": "9aa8b517",
   "metadata": {},
   "source": [
    "5. Find Maximum of two numbers in Python"
   ]
  },
  {
   "cell_type": "code",
   "execution_count": 14,
   "id": "175ba14f",
   "metadata": {},
   "outputs": [],
   "source": [
    "def maximum(a, b):\n",
    "     \n",
    "    if a >= b:\n",
    "        return a\n",
    "    else:\n",
    "        return b"
   ]
  },
  {
   "cell_type": "code",
   "execution_count": 15,
   "id": "d533579d",
   "metadata": {},
   "outputs": [],
   "source": [
    "a=26"
   ]
  },
  {
   "cell_type": "code",
   "execution_count": 16,
   "id": "06b0f3e2",
   "metadata": {},
   "outputs": [],
   "source": [
    "b=59"
   ]
  },
  {
   "cell_type": "code",
   "execution_count": 17,
   "id": "2924597a",
   "metadata": {},
   "outputs": [
    {
     "data": {
      "text/plain": [
       "59"
      ]
     },
     "execution_count": 17,
     "metadata": {},
     "output_type": "execute_result"
    }
   ],
   "source": [
    "(maximum(a, b))"
   ]
  },
  {
   "cell_type": "markdown",
   "id": "e3d74eae",
   "metadata": {},
   "source": [
    "6. Minimum of two numbers in Python"
   ]
  },
  {
   "cell_type": "code",
   "execution_count": 18,
   "id": "7af101df",
   "metadata": {},
   "outputs": [],
   "source": [
    "def minimum (a,b):\n",
    "    if a<=b:\n",
    "        return a\n",
    "    else:\n",
    "        return b"
   ]
  },
  {
   "cell_type": "code",
   "execution_count": 19,
   "id": "a8da7dc8",
   "metadata": {},
   "outputs": [],
   "source": [
    "a= 65\n",
    "b=15"
   ]
  },
  {
   "cell_type": "code",
   "execution_count": 20,
   "id": "99415f23",
   "metadata": {},
   "outputs": [
    {
     "data": {
      "text/plain": [
       "15"
      ]
     },
     "execution_count": 20,
     "metadata": {},
     "output_type": "execute_result"
    }
   ],
   "source": [
    "minimum (a,b)"
   ]
  },
  {
   "cell_type": "markdown",
   "id": "a36a6ebe",
   "metadata": {},
   "source": [
    "7. Check if element exists in list in Python"
   ]
  },
  {
   "cell_type": "code",
   "execution_count": 21,
   "id": "a8b4f5ab",
   "metadata": {},
   "outputs": [],
   "source": [
    "x = [1, 6, 3, 5, 3, 4]"
   ]
  },
  {
   "cell_type": "code",
   "execution_count": 22,
   "id": "09d0c193",
   "metadata": {},
   "outputs": [],
   "source": [
    "i=7"
   ]
  },
  {
   "cell_type": "code",
   "execution_count": 23,
   "id": "7c0433d6",
   "metadata": {},
   "outputs": [
    {
     "name": "stdout",
     "output_type": "stream",
     "text": [
      "not exist\n"
     ]
    }
   ],
   "source": [
    "if i in x: \n",
    "    print(\"exist\") \n",
    "else: \n",
    "    print(\"not exist\")"
   ]
  },
  {
   "cell_type": "markdown",
   "id": "297fe6e0",
   "metadata": {},
   "source": [
    "8. Different ways to clear a list in Python"
   ]
  },
  {
   "cell_type": "code",
   "execution_count": 25,
   "id": "a8f83590",
   "metadata": {},
   "outputs": [],
   "source": [
    "x = [1, 6, 3, 5, 3, 4]\n",
    "x.clear()"
   ]
  },
  {
   "cell_type": "code",
   "execution_count": 26,
   "id": "6d0ddb02",
   "metadata": {},
   "outputs": [
    {
     "data": {
      "text/plain": [
       "[]"
      ]
     },
     "execution_count": 26,
     "metadata": {},
     "output_type": "execute_result"
    }
   ],
   "source": [
    "x"
   ]
  },
  {
   "cell_type": "markdown",
   "id": "cac28648",
   "metadata": {},
   "source": [
    "9. Reversing a List in Python"
   ]
  },
  {
   "cell_type": "code",
   "execution_count": 29,
   "id": "d365bc66",
   "metadata": {},
   "outputs": [],
   "source": [
    "x = [1, 6, 3, 5, 3, 4]\n",
    "x.reverse()"
   ]
  },
  {
   "cell_type": "code",
   "execution_count": 30,
   "id": "5db44947",
   "metadata": {},
   "outputs": [
    {
     "data": {
      "text/plain": [
       "[4, 3, 5, 3, 6, 1]"
      ]
     },
     "execution_count": 30,
     "metadata": {},
     "output_type": "execute_result"
    }
   ],
   "source": [
    "x"
   ]
  },
  {
   "cell_type": "markdown",
   "id": "d2f63add",
   "metadata": {},
   "source": [
    "10. Python | Cloning or Copying a list"
   ]
  },
  {
   "cell_type": "code",
   "execution_count": 31,
   "id": "bc90f8e8",
   "metadata": {},
   "outputs": [],
   "source": [
    "x1 = [1, 6, 3, 5, 3, 4]"
   ]
  },
  {
   "cell_type": "code",
   "execution_count": 33,
   "id": "df89f9f9",
   "metadata": {},
   "outputs": [],
   "source": [
    "def copying(x1):\n",
    "    x2=x1[:]\n",
    "    return x2"
   ]
  },
  {
   "cell_type": "code",
   "execution_count": 34,
   "id": "aa6fc66a",
   "metadata": {},
   "outputs": [],
   "source": [
    "x2=copying(x1)"
   ]
  },
  {
   "cell_type": "code",
   "execution_count": 35,
   "id": "33da70f0",
   "metadata": {},
   "outputs": [
    {
     "data": {
      "text/plain": [
       "[1, 6, 3, 5, 3, 4]"
      ]
     },
     "execution_count": 35,
     "metadata": {},
     "output_type": "execute_result"
    }
   ],
   "source": [
    "x2"
   ]
  },
  {
   "cell_type": "markdown",
   "id": "ec8c04ae",
   "metadata": {},
   "source": [
    "11. Python | Count occurrences of an element in a list"
   ]
  },
  {
   "cell_type": "code",
   "execution_count": 36,
   "id": "c2be849d",
   "metadata": {},
   "outputs": [
    {
     "name": "stdout",
     "output_type": "stream",
     "text": [
      "Element Count\n",
      "2    3\n",
      "1    2\n",
      "3    2\n",
      "4    2\n",
      "5    2\n",
      "dtype: int64\n"
     ]
    }
   ],
   "source": [
    "import pandas as pd\n",
    "l = [1, 1, 2, 2, 2, 3, 3, 4, 4, 5, 5]\n",
    "count = pd.Series(l).value_counts()\n",
    "print(\"Element Count\")\n",
    "print(count)"
   ]
  },
  {
   "cell_type": "markdown",
   "id": "0e1721c6",
   "metadata": {},
   "source": [
    "12.Find sum and average of List in Python"
   ]
  },
  {
   "cell_type": "code",
   "execution_count": 38,
   "id": "8b4f992b",
   "metadata": {},
   "outputs": [],
   "source": [
    "x = [1, 6, 3, 5, 3, 4]\n",
    "z=sum(x)"
   ]
  },
  {
   "cell_type": "code",
   "execution_count": 39,
   "id": "449e6356",
   "metadata": {},
   "outputs": [
    {
     "data": {
      "text/plain": [
       "22"
      ]
     },
     "execution_count": 39,
     "metadata": {},
     "output_type": "execute_result"
    }
   ],
   "source": [
    "z"
   ]
  },
  {
   "cell_type": "code",
   "execution_count": 43,
   "id": "dd2f2eb4",
   "metadata": {},
   "outputs": [],
   "source": [
    "avg = z/len(x)"
   ]
  },
  {
   "cell_type": "code",
   "execution_count": 44,
   "id": "75d397ee",
   "metadata": {},
   "outputs": [
    {
     "data": {
      "text/plain": [
       "3.6666666666666665"
      ]
     },
     "execution_count": 44,
     "metadata": {},
     "output_type": "execute_result"
    }
   ],
   "source": [
    "avg"
   ]
  },
  {
   "cell_type": "markdown",
   "id": "3f866d1b",
   "metadata": {},
   "source": [
    "13. Python | Sum of number digits in List"
   ]
  },
  {
   "cell_type": "code",
   "execution_count": 49,
   "id": "1e4bd02d",
   "metadata": {},
   "outputs": [],
   "source": [
    "x= [12, 67, 98, 34]\n",
    "L = []\n",
    "for i in x:\n",
    "    sum=0 \n",
    "    for digit in str(i):\n",
    "        sum+= int(digit)\n",
    "    L.append(sum)"
   ]
  },
  {
   "cell_type": "code",
   "execution_count": 50,
   "id": "ce77bf37",
   "metadata": {},
   "outputs": [
    {
     "data": {
      "text/plain": [
       "[3, 13, 17, 7]"
      ]
     },
     "execution_count": 50,
     "metadata": {},
     "output_type": "execute_result"
    }
   ],
   "source": [
    "L"
   ]
  },
  {
   "cell_type": "code",
   "execution_count": 51,
   "id": "a640168f",
   "metadata": {},
   "outputs": [],
   "source": [
    "x= [12, 67, 98, 34]\n",
    "L = []\n",
    "for i in x:\n",
    "    sum=0 \n",
    "    for digit in str(i):\n",
    "        sum+= int(digit)\n",
    "        L.append(sum)"
   ]
  },
  {
   "cell_type": "code",
   "execution_count": 52,
   "id": "12f9f242",
   "metadata": {},
   "outputs": [
    {
     "data": {
      "text/plain": [
       "[1, 3, 6, 13, 9, 17, 3, 7]"
      ]
     },
     "execution_count": 52,
     "metadata": {},
     "output_type": "execute_result"
    }
   ],
   "source": [
    "L"
   ]
  },
  {
   "cell_type": "markdown",
   "id": "a6c64246",
   "metadata": {},
   "source": [
    "14. MULTIPLY of numbers digit in list"
   ]
  },
  {
   "cell_type": "code",
   "execution_count": 55,
   "id": "eba99adf",
   "metadata": {},
   "outputs": [],
   "source": [
    "x= [12, 67, 98, 34]\n",
    "L = []\n",
    "for i in x:\n",
    "    multiply=1 \n",
    "    for digit in str(i):\n",
    "        multiply*= int(digit)\n",
    "    L.append(multiply)"
   ]
  },
  {
   "cell_type": "code",
   "execution_count": 56,
   "id": "714f6118",
   "metadata": {},
   "outputs": [
    {
     "data": {
      "text/plain": [
       "[2, 42, 72, 12]"
      ]
     },
     "execution_count": 56,
     "metadata": {},
     "output_type": "execute_result"
    }
   ],
   "source": [
    "L"
   ]
  },
  {
   "cell_type": "code",
   "execution_count": 62,
   "id": "f86700d5",
   "metadata": {},
   "outputs": [],
   "source": [
    "x= [12, 67, 98, 34]\n",
    "L = []\n",
    "for i in x:\n",
    "    multiply=1 \n",
    "    for digit in str(i):\n",
    "        multiply*= int(digit)\n",
    "        L.append(multiply)"
   ]
  },
  {
   "cell_type": "code",
   "execution_count": 63,
   "id": "384cd139",
   "metadata": {},
   "outputs": [
    {
     "data": {
      "text/plain": [
       "[1, 2, 6, 42, 9, 72, 3, 12]"
      ]
     },
     "execution_count": 63,
     "metadata": {},
     "output_type": "execute_result"
    }
   ],
   "source": [
    "L"
   ]
  },
  {
   "cell_type": "code",
   "execution_count": null,
   "id": "30123160",
   "metadata": {},
   "outputs": [],
   "source": []
  }
 ],
 "metadata": {
  "kernelspec": {
   "display_name": "Python 3 (ipykernel)",
   "language": "python",
   "name": "python3"
  },
  "language_info": {
   "codemirror_mode": {
    "name": "ipython",
    "version": 3
   },
   "file_extension": ".py",
   "mimetype": "text/x-python",
   "name": "python",
   "nbconvert_exporter": "python",
   "pygments_lexer": "ipython3",
   "version": "3.11.4"
  }
 },
 "nbformat": 4,
 "nbformat_minor": 5
}
