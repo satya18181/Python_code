{
 "cells": [
  {
   "cell_type": "code",
   "execution_count": 1,
   "metadata": {
    "colab": {
     "base_uri": "https://localhost:8080/",
     "height": 0
    },
    "id": "JoMbQLjK3uHZ",
    "outputId": "fd97c4d2-d28d-4a1b-f64c-37661b183ee7"
   },
   "outputs": [
    {
     "name": "stdout",
     "output_type": "stream",
     "text": [
      "<class 'complex'>\n",
      "140351272336400\n"
     ]
    }
   ],
   "source": [
    "#Declare a complex number and store it in a variable. \n",
    "com_num = 10 + 20j\n",
    "\n",
    "\n",
    "#Check the type and print the id of the same.\n",
    "print(type(com_num))\n",
    "print(id(com_num))\n",
    "\n"
   ]
  },
  {
   "cell_type": "code",
   "execution_count": 4,
   "metadata": {
    "colab": {
     "base_uri": "https://localhost:8080/",
     "height": 0
    },
    "id": "6N6Ee4BU33jk",
    "outputId": "a3d69aeb-0ff2-4a6e-953f-322e5ceab361"
   },
   "outputs": [
    {
     "name": "stdout",
     "output_type": "stream",
     "text": [
      "Enter 1st Complex Number: 10+20j\n",
      "Enter 2nd Complex Number: 20+30j\n",
      "Sum of 2 complex numbers:  (30+50j)\n",
      "Difference of 2 complex numbers:  (-10-10j)\n",
      "Product of 2 complex numbers:  (-400+700j)\n",
      "Division of 2 complex numbers:  (0.6153846153846154+0.0769230769230769j)\n",
      "Raising com_num_1 to the power com_num_2:  (-2348247776258.4404+2822337984266.558j)\n"
     ]
    }
   ],
   "source": [
    "#Arithmatic Operations on complex number\n",
    "#Take two different complex number.\n",
    "#Store them in two different variables.\n",
    "#Do below operations on them:-\n",
    "    #Find sum of both numbers\n",
    "    #Find differce between them\n",
    "    #Find the product of both numbers.\n",
    "    #Find value after dividing first num with second number\n",
    "    #Find the result of first num to the power of second number.\n",
    "\n",
    "com_num_1 = eval(input('Enter 1st Complex Number: '))\n",
    "com_num_2 = eval(input('Enter 2nd Complex Number: '))\n",
    "print('Sum of 2 complex numbers: ', (com_num_1 + com_num_2))\n",
    "print('Difference of 2 complex numbers: ', (com_num_1 - com_num_2))\n",
    "print('Product of 2 complex numbers: ', (com_num_1 * com_num_2))\n",
    "print('Division of 2 complex numbers: ', (com_num_1 / com_num_2))\n",
    "print('Raising com_num_1 to the power com_num_2: ', (com_num_1 ** com_num_2))\n",
    "\n"
   ]
  },
  {
   "cell_type": "code",
   "execution_count": null,
   "metadata": {
    "id": "xhkdg7LD352y"
   },
   "outputs": [],
   "source": [
    "#Comparison Operation not applicable between instance of complex values - \n",
    "        Because \"j\" is an imaginary value in a complex number and it can not be compared\n",
    "\n",
    "\n",
    "        \n",
    "#Object reusability concept is not applicable on complex numebr - \n",
    "        There are infinite possibilities to create a complex number between 0 and 1 if they are taken as float value\n",
    "\n"
   ]
  },
  {
   "cell_type": "code",
   "execution_count": 5,
   "metadata": {
    "colab": {
     "base_uri": "https://localhost:8080/",
     "height": 0
    },
    "id": "4lzPH2sb38KM",
    "outputId": "e09271ae-5d46-4068-93d1-6faf84573307"
   },
   "outputs": [
    {
     "name": "stdout",
     "output_type": "stream",
     "text": [
      "Enter 1st Complex Number: 10+20j\n",
      "Enter 2nd Complex Number: 20+30j\n",
      "False\n",
      "True\n"
     ]
    }
   ],
   "source": [
    "#Equality Operator\n",
    "#Take two different complex numbers.\n",
    "#Store them in two different variables.\n",
    "#Equuate them using equality operator (==, !=)\n",
    "#Observe the output(return type should be boolean)\n",
    "\n",
    "com_num_1 = eval(input('Enter 1st Complex Number: '))\n",
    "com_num_2 = eval(input('Enter 2nd Complex Number: '))\n",
    "\n",
    "print(com_num_1 == com_num_2)\n",
    "print(com_num_1 != com_num_2)\n",
    "\n",
    "\n",
    "\n"
   ]
  },
  {
   "cell_type": "code",
   "execution_count": 8,
   "metadata": {
    "colab": {
     "base_uri": "https://localhost:8080/",
     "height": 0
    },
    "id": "EDEl19UD3_tr",
    "outputId": "d5befd37-1ec8-4332-c78b-f3a00d59be07"
   },
   "outputs": [
    {
     "name": "stdout",
     "output_type": "stream",
     "text": [
      "(20+30j)\n",
      "0j\n",
      "0j\n",
      "0j\n",
      "(10+20j)\n",
      "(20+30j)\n",
      "(20+30j)\n",
      "0j\n",
      "False\n",
      "True\n"
     ]
    }
   ],
   "source": [
    "#Logical operators\n",
    "#Observe the output of below code\n",
    "#Cross check the output manually\n",
    "\n",
    "print(10+20j and 20+30j)    #20+30j    #----------------------------------------->Output is 20+30j\n",
    "print(0+0j and 20+30j)      #0+0j    #----------------------------------------->Output is 0j\n",
    "print(20+30j and 0+0j)      #0+0j   #----------------------------------------->Output is 0j\n",
    "print(0+0j and 0+0j)        #0+0j   #----------------------------------------->Output is 0j\n",
    "\n",
    "print(10+20j or 20+30j)     #10+20j   #----------------------------------------->Output is 10+20j\n",
    "print(0+0j or 20+30j)       #20+30j   #----------------------------------------->Output is 20+30j\n",
    "print(20+30j or 0+0j)       #20+30j  #----------------------------------------->Output is 20+30j\n",
    "print(0+0j or 0+0j)         #0+0j   #----------------------------------------->Output is 0j\n",
    "\n",
    "print(not 10+20j)           #False   #----------------------------------------->Output is False\n",
    "print(not 0+0j)             #True   #----------------------------------------->Output is True"
   ]
  },
  {
   "cell_type": "code",
   "execution_count": 6,
   "metadata": {
    "colab": {
     "base_uri": "https://localhost:8080/",
     "height": 0
    },
    "id": "4ifueKbP4Br1",
    "outputId": "3f6fba53-d878-4b2c-d982-d45417bf171c"
   },
   "outputs": [
    {
     "name": "stdout",
     "output_type": "stream",
     "text": [
      "False\n",
      "True\n"
     ]
    }
   ],
   "source": [
    "#What is the output of expression inside print statement. Cross check before running the program.\n",
    "a = 10+20j\n",
    "b = 10+20j\n",
    "print(a is b)       #False   #True or False?\n",
    "print(a is not b)   #True   #True or False?\n"
   ]
  },
  {
   "cell_type": "code",
   "execution_count": 7,
   "metadata": {
    "colab": {
     "base_uri": "https://localhost:8080/",
     "height": 0
    },
    "id": "TxMbr5jQ4Dwl",
    "outputId": "d592a3a8-94ba-410a-dc83-f93c76966993"
   },
   "outputs": [
    {
     "name": "stdout",
     "output_type": "stream",
     "text": [
      "True\n",
      "True\n",
      "True\n",
      "True\n",
      "True\n",
      "True\n"
     ]
    }
   ],
   "source": [
    "#Membership operation\n",
    "#in, not in are two membership operators and it returns boolean value\n",
    "\n",
    "print('2.7' in 'Python2.7.8')                      #True\n",
    "print(10+20j in [10,10.20,10+20j,'Python'])        #True\n",
    "print(10+20j in (10,10.20,10+20j,'Python'))        #True\n",
    "print(30+40j in {1,20.30,30+40j})                  #True\n",
    "print(30+40j in {1:100, 2.3:200, 30+40j:300})      #True\n",
    "print(10 in range(20))                             #True"
   ]
  }
 ],
 "metadata": {
  "colab": {
   "name": "Sol_Complex_Assignement.ipynb",
   "provenance": []
  },
  "kernelspec": {
   "display_name": "Python 3",
   "language": "python",
   "name": "python3"
  },
  "language_info": {
   "codemirror_mode": {
    "name": "ipython",
    "version": 3
   },
   "file_extension": ".py",
   "mimetype": "text/x-python",
   "name": "python",
   "nbconvert_exporter": "python",
   "pygments_lexer": "ipython3",
   "version": "3.8.3"
  }
 },
 "nbformat": 4,
 "nbformat_minor": 1
}
