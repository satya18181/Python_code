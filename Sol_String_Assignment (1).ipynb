{
 "cells": [
  {
   "cell_type": "code",
   "execution_count": null,
   "metadata": {
    "colab": {
     "base_uri": "https://localhost:8080/",
     "height": 34
    },
    "executionInfo": {
     "elapsed": 1324,
     "status": "ok",
     "timestamp": 1600225780540,
     "user": {
      "displayName": "Abhishek Gupta",
      "photoUrl": "",
      "userId": "01308143559053085164"
     },
     "user_tz": -330
    },
    "id": "OG2JlAXx3VoJ",
    "outputId": "cc49363a-a280-4dba-f7a2-658fa0ecb05d"
   },
   "outputs": [
    {
     "name": "stdout",
     "output_type": "stream",
     "text": [
      "<class 'str'> 140641975643248\n"
     ]
    }
   ],
   "source": [
    "#Declare a string and store it in a variable. \n",
    "my_str = 'Python'\n",
    "\n",
    "\n",
    "#Check the type and print the id of the same.\n",
    "print(type(my_str), id(my_str))\n",
    "\n"
   ]
  },
  {
   "cell_type": "code",
   "execution_count": 1,
   "metadata": {
    "id": "wPxm3G8W3dqN"
   },
   "outputs": [
    {
     "ename": "SyntaxError",
     "evalue": "invalid syntax (<ipython-input-1-0caf4bb4ef68>, line 2)",
     "output_type": "error",
     "traceback": [
      "\u001b[1;36m  File \u001b[1;32m\"<ipython-input-1-0caf4bb4ef68>\"\u001b[1;36m, line \u001b[1;32m2\u001b[0m\n\u001b[1;33m    1. 'This is Python class'\u001b[0m\n\u001b[1;37m       ^\u001b[0m\n\u001b[1;31mSyntaxError\u001b[0m\u001b[1;31m:\u001b[0m invalid syntax\n"
     ]
    }
   ],
   "source": [
    "#Which are valid/invalid strings\n",
    "1. 'This is Python class'\n",
    "valid\n",
    "\n",
    "2. \"This is Python class\"\n",
    "valid\n",
    "\n",
    "3. '''This is Python class'''\n",
    "valid\n",
    "\n",
    "4. \"\"\"This is Python class\"\"\"\n",
    "valid\n",
    "\n",
    "5. 'This is Python's class'\n",
    "invalid\n",
    "\n",
    "6. \"Learnbay provides \"Java\", \"Python\" classes\"\n",
    "invalid\n",
    "\n",
    "7. \"Learnbay provides 'Java', 'Python' classes\"\n",
    "valid\n",
    "\n",
    "8. \"This is Python's class\"\n",
    "valid\n",
    "\n",
    "9. \"\"\"Learnbay provides \"Java\", \"Python\" classes\"\"\"\n",
    "valid\n",
    "\n",
    "10. '''Learnbay provides \"Java\", \"Python\" classes'''\n",
    "valid\n",
    "\n",
    "11. '''Learnbay provides\n",
    "\"Java\", \"Python\" \n",
    "classes'''\n",
    "valid\n",
    "\n",
    "12. 'This is\n",
    "Python \n",
    "class'\n",
    "invalid\n"
   ]
  },
  {
   "cell_type": "code",
   "execution_count": null,
   "metadata": {
    "colab": {
     "base_uri": "https://localhost:8080/",
     "height": 68
    },
    "executionInfo": {
     "elapsed": 1048,
     "status": "ok",
     "timestamp": 1600226186523,
     "user": {
      "displayName": "Abhishek Gupta",
      "photoUrl": "",
      "userId": "01308143559053085164"
     },
     "user_tz": -330
    },
    "id": "Drx8fhT23g7a",
    "outputId": "12e44cbb-78fc-472a-b023-07d39a277755"
   },
   "outputs": [
    {
     "name": "stdout",
     "output_type": "stream",
     "text": [
      "The length of my_str is 66\n",
      "id of my_str and my_str1 is same? - False\n",
      "Type of my_str is:  str\n"
     ]
    }
   ],
   "source": [
    "#Write the code to get the output mentioned below print statement\n",
    "my_str = \"Although that way may not be obvious at first unless you're Dutch.\"\n",
    "my_str1 = \"Although that way may not be obvious at first unless you're Dutch.\"\n",
    "\n",
    "print(f'The length of my_str is {len(my_str)}')\n",
    "#output:- The length of my_str is 66\n",
    "\n",
    "print(f'id of my_str and my_str1 is same? - {my_str is my_str1}')\n",
    "#output:- id of my_str and my_str1 is same? - False\n",
    "\n",
    "print('Type of my_str is: ', str(type(my_str))[8:11])\n",
    "#output:- Type of my_str is: str"
   ]
  },
  {
   "cell_type": "code",
   "execution_count": 2,
   "metadata": {
    "colab": {
     "base_uri": "https://localhost:8080/"
    },
    "executionInfo": {
     "elapsed": 3254,
     "status": "ok",
     "timestamp": 1613115619175,
     "user": {
      "displayName": "Abhishek Gupta",
      "photoUrl": "",
      "userId": "01308143559053085164"
     },
     "user_tz": -330
    },
    "id": "403e-I3A3lCO",
    "outputId": "747e6368-2c27-48b4-c619-e34f84ee9316"
   },
   "outputs": [
    {
     "name": "stdout",
     "output_type": "stream",
     "text": [
      "The first character in my_str is: A\n",
      "The first character in my_str is: A\n",
      "The first character in my_str is:  \n",
      "The first character in my_str is: h\n",
      "The first character in my_str is: h\n",
      "The first character in my_str is: 8\n"
     ]
    }
   ],
   "source": [
    "#Indexing\n",
    "my_str = \"Although 8 that way may not be obvious at first unless you're Dutch\"\n",
    "#Write the code to get the output,instructions are mentioned below print statement. use indexing\n",
    "\n",
    "print(f'The first character in my_str is: {my_str[0]}')\n",
    "#output:- The first character in my_str is: A\n",
    "#Note:- Use positive indexing\n",
    "\n",
    "print(f'The first character in my_str is: {my_str[-len(my_str)]}')\n",
    "#output:- The first character in my_str is: A\n",
    "#Note:- Use len() function.\n",
    "\n",
    "print(f'The first character in my_str is: {my_str[10]}')\n",
    "#output:- The character at index 10 in my_str is: \" \"\n",
    "#Note:- Use positive indexing\n",
    "\n",
    "print(f'The first character in my_str is: {my_str[-1]}')\n",
    "#output:- The last character in my_str is: h\n",
    "#Note:- Use negative indexing.\n",
    "\n",
    "print(f'The first character in my_str is: {my_str[(len(my_str))-1]}')\n",
    "#output:- The last character in my_str is: h\n",
    "#Note:- Use len() function.\n",
    "\n",
    "print(f'The first character in my_str is: {my_str[9]}')\n",
    "#output:- The character in my_str is: 8\n",
    "#Note:- Use positive index"
   ]
  },
  {
   "cell_type": "code",
   "execution_count": null,
   "metadata": {
    "colab": {
     "base_uri": "https://localhost:8080/",
     "height": 255
    },
    "executionInfo": {
     "elapsed": 627,
     "status": "ok",
     "timestamp": 1600226786675,
     "user": {
      "displayName": "Abhishek Gupta",
      "photoUrl": "",
      "userId": "01308143559053085164"
     },
     "user_tz": -330
    },
    "id": "NK_QdtsM3luu",
    "outputId": "c0430df5-2639-4a3b-85d3-f38abab31c18"
   },
   "outputs": [
    {
     "name": "stdout",
     "output_type": "stream",
     "text": [
      "Although that way may not be obvious at first unless you're Dutch.\n",
      "Although that way may not be obvious at first unless you're Dutch.\n",
      "\n",
      "\n",
      "\n",
      "Atog htwymyntb biu tfrtuls o'eDth\n",
      "Ahgttam tebo  r lsorDc\n",
      ".hctuD er'uoy sselnu tsrif ta suoivbo eb ton yam yaw taht hguohtlA\n",
      ".hctuD er'uoy sselnu tsrif ta suoivbo eb ton yam yaw taht hguohtlA\n",
      ".cu ruysen si asovoe o a a athuhl\n",
      ".cu ruysen si asovoe o a a athuhl\n",
      "\n",
      "yaw ta\n",
      "\n"
     ]
    }
   ],
   "source": [
    "\n",
    "#Slicing\n",
    "my_str = \"Although that way may not be obvious at first unless you're Dutch.\"\n",
    "#Write the code to get the output,instructions are mentioned below print statement. use slicing\n",
    "print(my_str[::])\n",
    "#output:- You have sliced: Although that way may not be obvious at first unless you're Dutch.Without begin, end and step\n",
    "\n",
    "\n",
    "print(my_str[0:len(my_str)])\n",
    "#output:- You have sliced: Although that way may not be obvious at first unless you're Dutch.with begin as 0 end using len and without step\n",
    "\n",
    "\n",
    "print()\n",
    "#output:- You have sliced: Although that way may not be obvious at first unless you're Dutch.without begin and end but using step\n",
    "\n",
    "\n",
    "print()\n",
    "#output:- You have sliced: Although that way may not be obvious at first unless you're Dutch.With begin, end and step\n",
    "\n",
    "\n",
    "print(my_str[0:len(my_str):-1])\n",
    "#output:- You have sliced:   .with using begin and end using postive values and step as negative values.\n",
    "#Slicing command should print empty string.\n",
    "\n",
    "\n",
    "print(my_str[0:len(my_str):2])\n",
    "#output:- You have sliced: Atog htwymyntb biu tfrtuls o'eDth\n",
    "\n",
    "\n",
    "print(my_str[0:len(my_str):3])\n",
    "#output:- You have sliced: Ahgttam tebo  r lsorDc\n",
    "\n",
    "\n",
    "print(my_str[::-1])\n",
    "#output:- You have sliced: .hctuD er'uoy sselnu tsrif ta suoivbo eb ton yam yaw taht hguohtlA. Use only step\n",
    "\n",
    "\n",
    "print(my_str[-1:-(len(my_str)+1):-1])\n",
    "#output:- You have sliced: .hctuD er'uoy sselnu tsrif ta suoivbo eb ton yam yaw taht hguohtlA. Use begin end and step.\n",
    "\n",
    "\n",
    "print(my_str[::-2])\n",
    "#output:- You have sliced: .cu ruysen si asovoe o a a athuhl. use only step\n",
    "\n",
    "\n",
    "print(my_str[-1:-(len(my_str)+1):-2])\n",
    "#output:- You have sliced: .cu ruysen si asovoe o a a athuhl. use begin, end and step.\n",
    "\n",
    "\n",
    "print(my_str[10:17:-1])\n",
    "#What will be the output?\n",
    "\n",
    "\n",
    "print(my_str[16:10:-1])\n",
    "#output:- You have sliced: yaw ta, Using begin, end and step.\n",
    "\n",
    "print()\n",
    "#output:- You have sliced: ess you. Using begin, end and step.\n"
   ]
  },
  {
   "cell_type": "code",
   "execution_count": null,
   "metadata": {
    "colab": {
     "base_uri": "https://localhost:8080/",
     "height": 232
    },
    "executionInfo": {
     "elapsed": 1177,
     "status": "error",
     "timestamp": 1600226906076,
     "user": {
      "displayName": "Abhishek Gupta",
      "photoUrl": "",
      "userId": "01308143559053085164"
     },
     "user_tz": -330
    },
    "id": "qUSYa5x-3n5j",
    "outputId": "7fb9c82e-a9e2-418a-dc15-8fef57dd87f9"
   },
   "outputs": [
    {
     "name": "stdout",
     "output_type": "stream",
     "text": [
      "Learnbay Python\n",
      "LearnbayLearnbayLearnbay\n"
     ]
    },
    {
     "ename": "TypeError",
     "evalue": "ignored",
     "output_type": "error",
     "traceback": [
      "\u001b[0;31m---------------------------------------------------------------------------\u001b[0m",
      "\u001b[0;31mTypeError\u001b[0m                                 Traceback (most recent call last)",
      "\u001b[0;32m<ipython-input-40-30f7187816a4>\u001b[0m in \u001b[0;36m<module>\u001b[0;34m()\u001b[0m\n\u001b[1;32m     22\u001b[0m \u001b[0;34m\u001b[0m\u001b[0m\n\u001b[1;32m     23\u001b[0m \u001b[0;31m#Error: TypeError: can't multiply sequence by non-int of type 'str'\u001b[0m\u001b[0;34m\u001b[0m\u001b[0;34m\u001b[0m\u001b[0;34m\u001b[0m\u001b[0m\n\u001b[0;32m---> 24\u001b[0;31m \u001b[0mprint\u001b[0m\u001b[0;34m(\u001b[0m\u001b[0mstr1\u001b[0m\u001b[0;34m*\u001b[0m\u001b[0mstr2\u001b[0m\u001b[0;34m)\u001b[0m\u001b[0;34m\u001b[0m\u001b[0;34m\u001b[0m\u001b[0m\n\u001b[0m",
      "\u001b[0;31mTypeError\u001b[0m: can't multiply sequence by non-int of type 'str'"
     ]
    }
   ],
   "source": [
    "#Basic operation on string\n",
    "str1 = 'Learnbay'\n",
    "str2 = 'Python'\n",
    "\n",
    "#Write the code to get the output,instructions are mentioned below.\n",
    "#Output is: Learnbay Python\n",
    "print(str1+\" \"+str2)\n",
    "\n",
    "#Error: TypeError: can only concatenate str (not \"int\") to str\n",
    "# print(str1+10)\n",
    "\n",
    "#Error: TypeError: can only concatenate str (not \"float\") to str\n",
    "# print(str1 + 10.20)\n",
    "\n",
    "\n",
    "#Find below Output\n",
    "#Output is: LearnbayLearnbayLearnbay\n",
    "print(str1*3)\n",
    "\n",
    "#Error: TypeError: can't multiply sequence by non-int of type 'float'\n",
    "# print(str1*10.20)\n",
    "\n",
    "#Error: TypeError: can't multiply sequence by non-int of type 'str'\n",
    "# print(str1*str2)\n"
   ]
  },
  {
   "cell_type": "code",
   "execution_count": null,
   "metadata": {
    "colab": {
     "base_uri": "https://localhost:8080/",
     "height": 119
    },
    "executionInfo": {
     "elapsed": 1152,
     "status": "ok",
     "timestamp": 1600226983450,
     "user": {
      "displayName": "Abhishek Gupta",
      "photoUrl": "",
      "userId": "01308143559053085164"
     },
     "user_tz": -330
    },
    "id": "gREffmnr3s-p",
    "outputId": "c6b20453-a663-41a4-e1c6-1735ac0f4c2c"
   },
   "outputs": [
    {
     "name": "stdout",
     "output_type": "stream",
     "text": [
      "True\n",
      "False\n",
      "False\n",
      "True\n",
      "True\n",
      "False\n"
     ]
    }
   ],
   "source": [
    "#Find below Output\n",
    "str1 = 'Python'\n",
    "str2 = 'Python'\n",
    "str3 = 'Python$'\n",
    "str4 = 'Python$'\n",
    "\n",
    "#print True by using identity operator between str1 and str2\n",
    "print(str1 is str2)\n",
    "\n",
    "#print False by using identity operator between str1 and str3\n",
    "print(str1 is str3)\n",
    "\n",
    "#print False by using identity operator between str4 and str3\n",
    "print(str4 is str3)\n",
    "\n",
    "#Check if P is available in str1 and print True by using membership operator\n",
    "print('P' in str1)\n",
    "\n",
    "#Check if $ is available in str3 and print True by using membership operator\n",
    "print('$' in str3)\n",
    "\n",
    "#Check if N is available in str3 and print False by using membership operator\n",
    "print('N' in str1)\n",
    "\n"
   ]
  },
  {
   "cell_type": "code",
   "execution_count": null,
   "metadata": {
    "colab": {
     "base_uri": "https://localhost:8080/",
     "height": 198
    },
    "executionInfo": {
     "elapsed": 1461,
     "status": "error",
     "timestamp": 1600227013590,
     "user": {
      "displayName": "Abhishek Gupta",
      "photoUrl": "",
      "userId": "01308143559053085164"
     },
     "user_tz": -330
    },
    "id": "QNFjxDr73u2H",
    "outputId": "66092930-33c3-4a48-f06f-19538ab890a8"
   },
   "outputs": [
    {
     "ename": "TypeError",
     "evalue": "ignored",
     "output_type": "error",
     "traceback": [
      "\u001b[0;31m---------------------------------------------------------------------------\u001b[0m",
      "\u001b[0;31mTypeError\u001b[0m                                 Traceback (most recent call last)",
      "\u001b[0;32m<ipython-input-47-65c46d45ab4e>\u001b[0m in \u001b[0;36m<module>\u001b[0;34m()\u001b[0m\n\u001b[1;32m      4\u001b[0m \u001b[0;31m#TypeError: 'str' object does not support item assignment.\u001b[0m\u001b[0;34m\u001b[0m\u001b[0;34m\u001b[0m\u001b[0;34m\u001b[0m\u001b[0m\n\u001b[1;32m      5\u001b[0m \u001b[0;34m\u001b[0m\u001b[0m\n\u001b[0;32m----> 6\u001b[0;31m \u001b[0mstr1\u001b[0m\u001b[0;34m[\u001b[0m\u001b[0;36m8\u001b[0m\u001b[0;34m:\u001b[0m\u001b[0;36m14\u001b[0m\u001b[0;34m]\u001b[0m \u001b[0;34m=\u001b[0m \u001b[0;34m'Java'\u001b[0m\u001b[0;34m\u001b[0m\u001b[0;34m\u001b[0m\u001b[0m\n\u001b[0m",
      "\u001b[0;31mTypeError\u001b[0m: 'str' object does not support item assignment"
     ]
    }
   ],
   "source": [
    "#Complete the below code\n",
    "str1 = 'This is Python class'\n",
    "#write the code to replace 'Python' with 'Java' and you should get below error.\n",
    "#TypeError: 'str' object does not support item assignment.\n",
    "\n",
    "# str1[8:14] = 'Java'\n"
   ]
  },
  {
   "cell_type": "code",
   "execution_count": null,
   "metadata": {
    "colab": {
     "base_uri": "https://localhost:8080/",
     "height": 85
    },
    "executionInfo": {
     "elapsed": 1799,
     "status": "ok",
     "timestamp": 1600227072984,
     "user": {
      "displayName": "Abhishek Gupta",
      "photoUrl": "",
      "userId": "01308143559053085164"
     },
     "user_tz": -330
    },
    "id": "-JgFbPmn3w3D",
    "outputId": "50a49e5e-4e97-470a-cca3-091546b05be2"
   },
   "outputs": [
    {
     "name": "stdout",
     "output_type": "stream",
     "text": [
      "True\n",
      "True\n",
      "False\n",
      "False\n"
     ]
    }
   ],
   "source": [
    "str1 = 'A'\n",
    "str2 = 'A'\n",
    "#Compare str1 and str2 and print True using comparison operator\n",
    "print(str1 <= str2)\n",
    "\n",
    "#Compare str1 and str2 and print True using equality operator\n",
    "print(str1 == str2)\n",
    "\n",
    "#Compare str1 and str2 and print False using equality operator\n",
    "print(str1 != str2)\n",
    "\n",
    "#Compare str1 and str2 and print False using comparison operator\n",
    "print(str1 < str2)\n"
   ]
  },
  {
   "cell_type": "code",
   "execution_count": 2,
   "metadata": {
    "id": "fJ46_L-53yhW"
   },
   "outputs": [
    {
     "name": "stdout",
     "output_type": "stream",
     "text": [
      "True\n",
      "True\n",
      "False\n",
      "False\n"
     ]
    }
   ],
   "source": [
    "str1 = 'A'\n",
    "str2 = 'a'\n",
    "#Compare str1 and str2 and print True using comparison operator\n",
    "\n",
    "print(str1<=str2)\n",
    "\n",
    "#Compare str1 and str2 and print True using equality operator\n",
    "\n",
    "print(str1!=str2)\n",
    "\n",
    "#Compare str1 and str2 and print False using equality operator\n",
    "\n",
    "print(str1==str2)\n",
    "\n",
    "#Compare str1 and str2 and print False using comparison operator\n",
    "\n",
    "print(str1>str2)"
   ]
  },
  {
   "cell_type": "code",
   "execution_count": 3,
   "metadata": {
    "colab": {
     "base_uri": "https://localhost:8080/",
     "height": 249
    },
    "executionInfo": {
     "elapsed": 1094,
     "status": "error",
     "timestamp": 1600227146659,
     "user": {
      "displayName": "Abhishek Gupta",
      "photoUrl": "",
      "userId": "01308143559053085164"
     },
     "user_tz": -330
    },
    "id": "e-Lr9va330gi",
    "outputId": "71e9ee7a-57e8-41d9-b400-0339b5b5a3c6"
   },
   "outputs": [
    {
     "name": "stdout",
     "output_type": "stream",
     "text": [
      "True -----> Error\n",
      "True\n",
      "False\n"
     ]
    }
   ],
   "source": [
    "str1 = 'A'\n",
    "str2 = '65'\n",
    "\n",
    "#Compare str1 and str2 using comparison operator and it should give below error.\n",
    "#Error: TypeError: '>=' not supported between instances of 'str' and 'int'\n",
    "print(str1>=str2,'-----> Error')\n",
    "#Answer- Yes there is an error if str2 is integer\n",
    "#Compare str1 and str2 and print True using equality operator\n",
    "\n",
    "print(str1!=str2)\n",
    "#Compare str1 and str2 and print False using equality operator\n",
    "\n",
    "print(str1==str2)"
   ]
  },
  {
   "cell_type": "code",
   "execution_count": 4,
   "metadata": {
    "id": "JO04jmpN32Im"
   },
   "outputs": [
    {
     "name": "stdout",
     "output_type": "stream",
     "text": [
      "True\n",
      "True\n",
      "False\n",
      "False\n"
     ]
    }
   ],
   "source": [
    "str1 = 'Python'\n",
    "str2 = 'Python'\n",
    "\n",
    "#Compare str1 and str2 and print True using comparison operator\n",
    "print(str1<=str2)\n",
    "\n",
    "#Compare str1 and str2 and print True using equality operator\n",
    "\n",
    "print(str1==str2)\n",
    "#Compare str1 and str2 and print False using equality operator\n",
    "\n",
    "print(str1!=str2)\n",
    "#Compare str1 and str2 and print False using comparison operator\n",
    "print(str1<str2)\n",
    "\n"
   ]
  },
  {
   "cell_type": "code",
   "execution_count": 5,
   "metadata": {
    "id": "nmVAYYC_35ip"
   },
   "outputs": [
    {
     "name": "stdout",
     "output_type": "stream",
     "text": [
      "True\n",
      "True\n",
      "False\n",
      "False\n"
     ]
    }
   ],
   "source": [
    "str1 = 'Python'\n",
    "str2 = 'python'\n",
    "#Compare str1 and str2 and print True using comparison operator\n",
    "\n",
    "print(str1<=str2)\n",
    "#Compare str1 and str2 and print True using equality operator\n",
    "print(str1!=str2)\n",
    "\n",
    "#Compare str1 and str2 and print False using equality operator\n",
    "\n",
    "print(str1==str2)\n",
    "#Compare str1 and str2 and print False using comparison operator\n",
    "\n",
    "print(str1>str2)"
   ]
  },
  {
   "cell_type": "code",
   "execution_count": 7,
   "metadata": {
    "id": "7ulv5ith37OJ"
   },
   "outputs": [
    {
     "name": "stdout",
     "output_type": "stream",
     "text": [
      "1 \n",
      "2 Python\n",
      "3 False\n",
      "4 True\n"
     ]
    }
   ],
   "source": [
    "a = 'Python'\n",
    "b = ''\n",
    "\n",
    "#Apply logical opereators (and, or & not) on above string values and observe the output.\n",
    "print(a and b)\n",
    "print(a or b)\n",
    "print()\n",
    "print()\n",
    "print()"
   ]
  },
  {
   "cell_type": "code",
   "execution_count": 8,
   "metadata": {
    "id": "Yg_gsZBL383n"
   },
   "outputs": [
    {
     "name": "stdout",
     "output_type": "stream",
     "text": [
      "1 \n",
      "2 \n",
      "3 True\n",
      "4 True\n"
     ]
    }
   ],
   "source": [
    "a = ''\n",
    "b = ''\n",
    "\n",
    "#Apply logical opereators (and, or & not) on above string values and observe the output.\n",
    "print('1',a and b)\n",
    "print('2',a or b)\n",
    "print('3',not a)\n",
    "print('4',not b)"
   ]
  },
  {
   "cell_type": "code",
   "execution_count": 9,
   "metadata": {
    "id": "cIWkP9Hf3-q5"
   },
   "outputs": [
    {
     "name": "stdout",
     "output_type": "stream",
     "text": [
      "1 learnbay\n",
      "2 Python\n",
      "3 False\n",
      "4 False\n"
     ]
    }
   ],
   "source": [
    "a = 'Python'\n",
    "b = 'learnbay'\n",
    "\n",
    "#Apply logical opereators (and, or & not) on above string values and observe the output.\n",
    "print('1',a and b)\n",
    "print('2',a or b)\n",
    "print('3',not a)\n",
    "print('4',not b)"
   ]
  },
  {
   "cell_type": "code",
   "execution_count": 12,
   "metadata": {
    "colab": {
     "base_uri": "https://localhost:8080/",
     "height": 85
    },
    "executionInfo": {
     "elapsed": 1020,
     "status": "ok",
     "timestamp": 1600227736009,
     "user": {
      "displayName": "Abhishek Gupta",
      "photoUrl": "",
      "userId": "01308143559053085164"
     },
     "user_tz": -330
    },
    "id": "Y0Ot_E704AX5",
    "outputId": "e480a026-bb10-4dce-c39f-88a053a78da6"
   },
   "outputs": [
    {
     "name": "stdout",
     "output_type": "stream",
     "text": [
      "1----> 7\n",
      "2----> 2\n",
      "3----> 2\n",
      "5----> 9\n",
      "6----> 9\n",
      "7----> -1\n",
      "8---->Error\n",
      "9----> 11\n",
      "10----> 63\n",
      "11----> 63\n"
     ]
    }
   ],
   "source": [
    "my_str = \"Although 8 that way may not be obvious at first unless you're Dutch\"\n",
    "\n",
    "#Write the code to get the total count of 't' in above string. Use find() and index() method.\n",
    "# print(my_str.count('t'))\n",
    "# print()\n",
    "print('1---->',my_str.count('t') )\n",
    "print('2---->',my_str.find('t'))\n",
    "print('3---->',my_str.index('t'))\n",
    "\n",
    "# Using index method\n",
    "# ind = -1\n",
    "# count = 0\n",
    "# while True:\n",
    "#   try:\n",
    "#     ind = my_str.index('t', ind+1)\n",
    "#   except ValueError:\n",
    "#     break\n",
    "#   else:\n",
    "#     count += 1\n",
    "# print(count)\n",
    "\n",
    "# Using find method\n",
    "# ind = -1\n",
    "# count = 0\n",
    "# while True:\n",
    "#     ind = my_str.find('t', ind+1)\n",
    "#     if ind == -1:\n",
    "#       break\n",
    "#     else:\n",
    "#       count += 1\n",
    "# print(count)\n",
    "\n",
    "\n",
    "#Write the code to get the index of '8' in my_str. Use find() and index() method.\n",
    "print('5---->',my_str.find('8'))\n",
    "print('6---->',my_str.index('8'))\n",
    "\n",
    "#What will be the output of below code?\n",
    "# print(my_str.find('the'))\n",
    "print('7---->',my_str.find('the'))\n",
    "\n",
    "\n",
    "# print(my_str.index('the'))\n",
    "print('8---->Error')\n",
    "\n",
    "\n",
    "# print(my_str.find('t', 9, 15))\n",
    "\n",
    "print('9---->',my_str.find('t', 9, 15))\n",
    "\n",
    "# print(my_str.rfind('u'))\n",
    "\n",
    "print('10---->',my_str.rfind('u'))\n",
    "\n",
    "# print(my_str.rindex('u'))\n",
    "print('11---->',my_str.rindex('u'))\n"
   ]
  },
  {
   "cell_type": "code",
   "execution_count": 14,
   "metadata": {
    "colab": {
     "base_uri": "https://localhost:8080/",
     "height": 51
    },
    "executionInfo": {
     "elapsed": 7094,
     "status": "ok",
     "timestamp": 1600227922519,
     "user": {
      "displayName": "Abhishek Gupta",
      "photoUrl": "",
      "userId": "01308143559053085164"
     },
     "user_tz": -330
    },
    "id": "Gommq59Q4CMi",
    "outputId": "f2097f4f-d518-43d1-b9b0-0466c2039bee"
   },
   "outputs": [
    {
     "name": "stdout",
     "output_type": "stream",
     "text": [
      "Python\n",
      "Python   \n",
      "    Python\n",
      "Enter a string:- python\n",
      "Applying rstrip method as string ends with a space:  python\n"
     ]
    }
   ],
   "source": [
    "#W A P which applies strip() method if any string, which will be taken from user, starts and ends with space, or applies \n",
    "#rrstrip() method if that string only ends with space or applies lstrip() method if that string only starts with a space.\n",
    "\n",
    "#For example:-\n",
    "#input:- '    Python   '\n",
    "#output:- 'Python'\n",
    "print('    Python   '.strip())\n",
    "\n",
    "#input:- '    Python'\n",
    "#output:- 'Python'\n",
    "print('    Python   '.lstrip(' '))\n",
    "\n",
    "#input:- 'Python   '\n",
    "#output:- '     Python'\n",
    "print('    Python   '.rstrip(' '))\n",
    "\n",
    "my_str = input('Enter a string:- ')\n",
    "if my_str.startswith(' ') and my_str.endswith(' '): \n",
    "  print('Applying strip method as string starts and ends with a space: ', my_str.strip())\n",
    "elif my_str.startswith(' '): \n",
    "  print('Applying lstrip method as string starts with a space: ', my_str.lstrip())\n",
    "else:\n",
    "  print('Applying rstrip method as string ends with a space: ', my_str.rstrip())"
   ]
  },
  {
   "cell_type": "code",
   "execution_count": 15,
   "metadata": {
    "colab": {
     "base_uri": "https://localhost:8080/",
     "height": 68
    },
    "executionInfo": {
     "elapsed": 1125,
     "status": "ok",
     "timestamp": 1600227958700,
     "user": {
      "displayName": "Abhishek Gupta",
      "photoUrl": "",
      "userId": "01308143559053085164"
     },
     "user_tz": -330
    },
    "id": "9IUy-cpS4Dtt",
    "outputId": "c7b7897f-5dab-4494-9d15-2488edc6dafe"
   },
   "outputs": [
    {
     "name": "stdout",
     "output_type": "stream",
     "text": [
      "ALTHOUGH 8 THAT WAY MAY NOT BE OBVIOUS AT FIRST UNLESS YOU'RE DUTCH\n",
      "although 8 that way may not be obvious at first unless you're dutch\n",
      "aLTHOUGH 8 THAT WAY MAY NOT BE OBVIOUS AT FIRST UNLESS YOU'RE dUTCH\n"
     ]
    }
   ],
   "source": [
    "my_str = \"Although 8 that way may not be obvious at first unless you're Dutch\"\n",
    "\n",
    "#Write the code to convert all alphabets in my_str into upper case.\n",
    "print(my_str.upper())\n",
    "\n",
    "#Write the code to convert all alphabets in my_str into lower case.\n",
    "print(my_str.lower())\n",
    "\n",
    "#Write the code to swap the cases of all alphabets in my_str.(lower to upper and upper to lower)\n",
    "print(my_str.swapcase())\n",
    "\n"
   ]
  },
  {
   "cell_type": "code",
   "execution_count": null,
   "metadata": {
    "colab": {
     "base_uri": "https://localhost:8080/",
     "height": 51
    },
    "executionInfo": {
     "elapsed": 7934,
     "status": "ok",
     "timestamp": 1600228115104,
     "user": {
      "displayName": "Abhishek Gupta",
      "photoUrl": "",
      "userId": "01308143559053085164"
     },
     "user_tz": -330
    },
    "id": "-BjS-z674HKW",
    "outputId": "678256d3-7b63-476c-9f48-e7a209bddc07"
   },
   "outputs": [
    {
     "name": "stdout",
     "output_type": "stream",
     "text": [
      "Enter a string: Awjhebsfjhsbd hbsdjsdjkbv ksjbfjkhsdbvks\n",
      "Awjhebsfjhsbd Hbsdjsdjkbv Ksjbfjkhsdbvks\n"
     ]
    }
   ],
   "source": [
    "#Write the code which takes one string from user and if it starts with small case letter then convert it to corresponding \n",
    "#capital letter otherwise if starts with capital letters then convert first character of every word in that string into capital.\n",
    "\n",
    "my_str = input('Enter a string: ')\n",
    "if my_str[0].islower():\n",
    "  print(my_str.capitalize())\n",
    "else:\n",
    "  print(my_str.title())"
   ]
  },
  {
   "cell_type": "code",
   "execution_count": 16,
   "metadata": {
    "colab": {
     "base_uri": "https://localhost:8080/",
     "height": 34
    },
    "executionInfo": {
     "elapsed": 1271,
     "status": "ok",
     "timestamp": 1600228224379,
     "user": {
      "displayName": "Abhishek Gupta",
      "photoUrl": "",
      "userId": "01308143559053085164"
     },
     "user_tz": -330
    },
    "id": "-MCuDy5J4JQS",
    "outputId": "1028cb5e-6783-4ce4-9a43-cd368bd1874c"
   },
   "outputs": [
    {
     "name": "stdout",
     "output_type": "stream",
     "text": [
      "enter a string--->Python\n",
      "1 True\n",
      "2 True\n",
      "3 False\n",
      "4 False\n",
      "5 False\n",
      "6 True\n",
      "7 True\n",
      "8 False\n",
      "9 False\n"
     ]
    }
   ],
   "source": [
    "#Take a string from user and check if it is:-\n",
    "#Take a string from user and check if it is:-\n",
    "my_str =(input(\"enter a string--->\"))\n",
    "#     1. alphanumeric\n",
    "print('1',my_str.isalpha())\n",
    "#     2. alphabets\n",
    "print('2',my_str.isalpha())\n",
    "#     3. digit\n",
    "print('3',my_str.isdigit())\n",
    "#     4. all letters are in lower case\n",
    "print('4',my_str.islower())\n",
    "#     5. all letters are in upper case\n",
    "print('5',my_str.isupper())\n",
    "#     6. in title case\n",
    "print('6',my_str.istitle())\n",
    "#     7. a space character\n",
    "print('7',my_str.istitle())\n",
    "#     8. numeric\n",
    "print('8',my_str.isnumeric())\n",
    "#     9. all number elements in string are decimal\n",
    "print('9',my_str.isdecimal())\n"
   ]
  },
  {
   "cell_type": "code",
   "execution_count": 18,
   "metadata": {
    "id": "tiTN-4ik4KAG"
   },
   "outputs": [
    {
     "name": "stdout",
     "output_type": "stream",
     "text": [
      "Enter a string to check :  abc\n",
      "True\n"
     ]
    }
   ],
   "source": [
    "#W A P which takes a string as an input and prints True if the string is valid identifier else returns False.\n",
    "#Sample Input:- 'abc', 'abc1', 'ab1c', '1abc', 'abc$', '_abc', 'if'.     - isidentifier()\n",
    "\n",
    "import keyword\n",
    "my_str = input('Enter a string to check :  ')\n",
    "print(False if (my_str in keyword.kwlist) else True if (my_str.isidentifier()) else False)\n"
   ]
  },
  {
   "cell_type": "code",
   "execution_count": 20,
   "metadata": {
    "colab": {
     "base_uri": "https://localhost:8080/"
    },
    "executionInfo": {
     "elapsed": 1310,
     "status": "ok",
     "timestamp": 1613116361581,
     "user": {
      "displayName": "Abhishek Gupta",
      "photoUrl": "",
      "userId": "01308143559053085164"
     },
     "user_tz": -330
    },
    "id": "tAMkSIN84MPe",
    "outputId": "b4c9a37e-c5d6-4a59-cd13-828022042dde"
   },
   "outputs": [
    {
     "name": "stdout",
     "output_type": "stream",
     "text": [
      "True\n",
      "False\n",
      "False\n",
      "True\n"
     ]
    }
   ],
   "source": [
    "#What will be output of below code?\n",
    "s = chr(65) + chr(97)\n",
    "print(s.isprintable())\n",
    "\n",
    "s = chr(27) + chr(97)\n",
    "print(s.isprintable())\n",
    "\n",
    "s = '\\n'\n",
    "print(s.isprintable())\n",
    "\n",
    "s = ''\n",
    "print(s.isprintable())"
   ]
  },
  {
   "cell_type": "code",
   "execution_count": 21,
   "metadata": {
    "colab": {
     "base_uri": "https://localhost:8080/",
     "height": 35
    },
    "executionInfo": {
     "elapsed": 2208,
     "status": "ok",
     "timestamp": 1613116383916,
     "user": {
      "displayName": "Abhishek Gupta",
      "photoUrl": "",
      "userId": "01308143559053085164"
     },
     "user_tz": -330
    },
    "id": "Um8cjB3uOpKt",
    "outputId": "a2df75c2-a585-41a5-8aeb-87b45934d729"
   },
   "outputs": [
    {
     "data": {
      "application/vnd.google.colaboratory.intrinsic+json": {
       "type": "string"
      },
      "text/plain": [
       "'\\x1b'"
      ]
     },
     "execution_count": 21,
     "metadata": {
      "tags": []
     },
     "output_type": "execute_result"
    }
   ],
   "source": [
    "chr(27)"
   ]
  },
  {
   "cell_type": "code",
   "execution_count": 19,
   "metadata": {
    "colab": {
     "base_uri": "https://localhost:8080/",
     "height": 232
    },
    "executionInfo": {
     "elapsed": 1896,
     "status": "error",
     "timestamp": 1613116262071,
     "user": {
      "displayName": "Abhishek Gupta",
      "photoUrl": "",
      "userId": "01308143559053085164"
     },
     "user_tz": -330
    },
    "id": "pU9Os0mD4Pk1",
    "outputId": "7be3e2fc-038c-4736-ba4a-35bf2b475fed"
   },
   "outputs": [
    {
     "name": "stdout",
     "output_type": "stream",
     "text": [
      "True\n",
      "True\n",
      "True\n",
      "True\n",
      "False\n",
      "False\n"
     ]
    }
   ],
   "source": [
    "#What will be output of below code?\n",
    "my_string = '  '\n",
    "print(my_string.isascii())\n",
    "\n",
    "my_string = 'Studytonight'\n",
    "print(my_string.isascii())\n",
    "\n",
    "my_string = 'Study tonight'\n",
    "print(my_string.isascii())\n",
    "\n",
    "my_string = 'Studytonight@123'\n",
    "print(my_string.isascii())\n",
    "\n",
    "my_string = '°'\n",
    "print(my_string.isascii())\n",
    "\n",
    "my_string = 'ö'\n",
    "print(my_string.isascii())"
   ]
  },
  {
   "cell_type": "code",
   "execution_count": 17,
   "metadata": {
    "colab": {
     "base_uri": "https://localhost:8080/"
    },
    "executionInfo": {
     "elapsed": 1568,
     "status": "ok",
     "timestamp": 1613116234988,
     "user": {
      "displayName": "Abhishek Gupta",
      "photoUrl": "",
      "userId": "01308143559053085164"
     },
     "user_tz": -330
    },
    "id": "VsLV8FF74QTB",
    "outputId": "8a52ca22-9a6e-444d-b4c1-2647fa0dcd50"
   },
   "outputs": [
    {
     "name": "stdout",
     "output_type": "stream",
     "text": [
      "The strings are equal.\n"
     ]
    }
   ],
   "source": [
    "#What will be the output of below code?\n",
    "firstString = \"der Fluß\"\n",
    "secondString = \"der Fluss\"\n",
    "\n",
    "if firstString.casefold() == secondString.casefold():\n",
    "    print('The strings are equal.')\n",
    "else:\n",
    "    print('The strings are not equal.')"
   ]
  },
  {
   "cell_type": "code",
   "execution_count": null,
   "metadata": {
    "colab": {
     "base_uri": "https://localhost:8080/",
     "height": 68
    },
    "executionInfo": {
     "elapsed": 1073,
     "status": "ok",
     "timestamp": 1600228535108,
     "user": {
      "displayName": "Abhishek Gupta",
      "photoUrl": "",
      "userId": "01308143559053085164"
     },
     "user_tz": -330
    },
    "id": "1m0U7jLa4Wjf",
    "outputId": "321f4a9c-12a0-46e1-e4e1-7073195eddb0"
   },
   "outputs": [
    {
     "name": "stdout",
     "output_type": "stream",
     "text": [
      "Python**\n",
      "**Python\n",
      "**Python**\n"
     ]
    }
   ],
   "source": [
    "#Write the code to get below output\n",
    "#O/P 1:- python** (using ljust method)\n",
    "my_str = 'Python'\n",
    "print(my_str.ljust(8, '*'))\n",
    "\n",
    "#Write the code to get below output\n",
    "#O/P 1:- **python (using rjust method)\n",
    "print(my_str.rjust(8, '*'))\n",
    "\n",
    "#Write the code to get below output\n",
    "#O/P 1:- **python** (using rjust method)\n",
    "print(my_str.center(10, '*'))"
   ]
  },
  {
   "cell_type": "code",
   "execution_count": null,
   "metadata": {
    "colab": {
     "base_uri": "https://localhost:8080/",
     "height": 34
    },
    "executionInfo": {
     "elapsed": 1013,
     "status": "ok",
     "timestamp": 1600228560970,
     "user": {
      "displayName": "Abhishek Gupta",
      "photoUrl": "",
      "userId": "01308143559053085164"
     },
     "user_tz": -330
    },
    "id": "cRVkvW6s4YKK",
    "outputId": "a10dddd6-5dd5-40c0-dcde-b57d5cbe1504"
   },
   "outputs": [
    {
     "name": "stdout",
     "output_type": "stream",
     "text": [
      "55\n"
     ]
    }
   ],
   "source": [
    "#Write a Python program to find the length of the my_str:-\n",
    "\n",
    "#Input:- 'Write a Python program to find the length of the my_str'\n",
    "#Output:- 55\n",
    "my_str = 'Write a Python program to find the length of the my_str'\n",
    "print(len(my_str))\n",
    "\n"
   ]
  },
  {
   "cell_type": "code",
   "execution_count": null,
   "metadata": {
    "colab": {
     "base_uri": "https://localhost:8080/",
     "height": 34
    },
    "executionInfo": {
     "elapsed": 966,
     "status": "ok",
     "timestamp": 1600228580443,
     "user": {
      "displayName": "Abhishek Gupta",
      "photoUrl": "",
      "userId": "01308143559053085164"
     },
     "user_tz": -330
    },
    "id": "SjABWI284Zuz",
    "outputId": "7f08298d-0356-477a-94f9-01e4c1b169ac"
   },
   "outputs": [
    {
     "name": "stdout",
     "output_type": "stream",
     "text": [
      "9\n"
     ]
    }
   ],
   "source": [
    "#Write a Python program to find the total number of times letter 'p' is appeared in the below string:-\n",
    "    \n",
    "#Input:- 'peter piper picked a peck of pickled peppers.'\n",
    "#Output:- 9\n",
    "my_str ='peter piper picked a peck of pickled peppers.'\n",
    "print(my_str.count('p'))"
   ]
  },
  {
   "cell_type": "code",
   "execution_count": 26,
   "metadata": {
    "colab": {
     "base_uri": "https://localhost:8080/"
    },
    "executionInfo": {
     "elapsed": 1032,
     "status": "ok",
     "timestamp": 1613116188637,
     "user": {
      "displayName": "Abhishek Gupta",
      "photoUrl": "",
      "userId": "01308143559053085164"
     },
     "user_tz": -330
    },
    "id": "-iZtqbEo4bQp",
    "outputId": "13d85a73-6b94-4e3b-9ce1-aa0d098ddf0d"
   },
   "outputs": [
    {
     "name": "stdout",
     "output_type": "stream",
     "text": [
      "0\n",
      "6\n",
      "8\n",
      "12\n",
      "21\n",
      "29\n",
      "37\n",
      "39\n",
      "40\n",
      "********\n",
      "9\n",
      "********\n",
      "9\n",
      "[0, 6, 8, 12, 21, 29, 37, 39, 40]\n"
     ]
    }
   ],
   "source": [
    "#Write a Python Program, to print all the indexes of all occurences of letter 'p' appeared in the string:-\n",
    "    \n",
    "#Input:- 'peter piper picked a peck of pickled peppers.'\n",
    "#Output:- \n",
    "# 0\n",
    "# 6\n",
    "# 8\n",
    "# 12\n",
    "# 21\n",
    "# 29\n",
    "# 37\n",
    "# 39\n",
    "# 40\n",
    "\n",
    "\n",
    "# Using find method\n",
    "x ='peter piper picked a peck of pickled peppers.'\n",
    "ind = -1\n",
    "while True:\n",
    "    ind = my_str.find('p', ind+1)\n",
    "    if ind == -1:\n",
    "      break\n",
    "    else:\n",
    "      print(ind)\n",
    "\n",
    "\n",
    "for i in range(0, len(x)):\n",
    "  if x[i] == 'p':\n",
    "    print(x.find('p',i))\n",
    "    \n",
    "    \n",
    "#finding count method\n",
    "print(\"********\")\n",
    "a='peter piper picked a peck of pickled peppers.'\n",
    "print(a.count('p'))\n",
    "\n",
    "#Using append mehod\n",
    "print(\"********\")\n",
    "\n",
    "a='peter piper picked a peck of pickled peppers.'\n",
    "b=[]\n",
    "print(a.count('p'))\n",
    "for i in range (len(a)):\n",
    "    if a[i]=='p':\n",
    "        b.append(i)\n",
    "print(b)\n",
    "        "
   ]
  },
  {
   "cell_type": "code",
   "execution_count": 15,
   "metadata": {
    "colab": {
     "base_uri": "https://localhost:8080/"
    },
    "executionInfo": {
     "elapsed": 1435,
     "status": "ok",
     "timestamp": 1613116166991,
     "user": {
      "displayName": "Abhishek Gupta",
      "photoUrl": "",
      "userId": "01308143559053085164"
     },
     "user_tz": -330
    },
    "id": "_A8Eu8f84daM",
    "outputId": "80790f8d-cc6c-46f7-fc48-c47f461e7d8e"
   },
   "outputs": [
    {
     "name": "stdout",
     "output_type": "stream",
     "text": [
      "['peter', 'piper', 'picked', 'a', 'peck', 'of', 'pickled', 'peppers.']\n"
     ]
    }
   ],
   "source": [
    "#Write a python program to find below output:-\n",
    "\n",
    "#Input:- 'peter piper picked a peck of pickled peppers.'\n",
    "#Output:- ['peter', 'piper', 'picked', 'a', 'peck', 'of', 'pickled', 'peppers.']\n",
    "\n",
    "x = 'peter piper picked a peck of pickled peppers.'\n",
    "print(x.split())"
   ]
  },
  {
   "cell_type": "code",
   "execution_count": 27,
   "metadata": {
    "colab": {
     "base_uri": "https://localhost:8080/"
    },
    "executionInfo": {
     "elapsed": 1018,
     "status": "ok",
     "timestamp": 1613116147125,
     "user": {
      "displayName": "Abhishek Gupta",
      "photoUrl": "",
      "userId": "01308143559053085164"
     },
     "user_tz": -330
    },
    "id": "juh7tQuL4fNc",
    "outputId": "13e64f61-dc2e-4f18-87d9-adfbd32035e5"
   },
   "outputs": [
    {
     "name": "stdout",
     "output_type": "stream",
     "text": [
      "peppers. pickled of peck a picked piper peter\n",
      "********\n",
      "peppers. pickled of peck a picked piper peter\n"
     ]
    }
   ],
   "source": [
    "#Write a python program to find below output:-\n",
    "\n",
    "#Input:- 'peter piper picked a peck of pickled peppers.'\n",
    "#Output:- 'peppers. pickled of peck a picked piper peter'\n",
    "\n",
    "x = 'peter piper picked a peck of pickled peppers.'\n",
    "print(' '.join(x.split()[::-1]))\n",
    "\n",
    "#Using replace method\n",
    "\n",
    "print(\"********\")\n",
    "\n",
    "print(x.replace('peter piper picked a peck of pickled peppers.', 'peppers. pickled of peck a picked piper peter'))\n"
   ]
  },
  {
   "cell_type": "code",
   "execution_count": 28,
   "metadata": {
    "colab": {
     "base_uri": "https://localhost:8080/"
    },
    "executionInfo": {
     "elapsed": 1707,
     "status": "ok",
     "timestamp": 1613116127671,
     "user": {
      "displayName": "Abhishek Gupta",
      "photoUrl": "",
      "userId": "01308143559053085164"
     },
     "user_tz": -330
    },
    "id": "aaHQYz194fW7",
    "outputId": "04e5714e-feae-4dc4-f31a-689050911e56"
   },
   "outputs": [
    {
     "name": "stdout",
     "output_type": "stream",
     "text": [
      ".sreppep delkcip fo kcep a dekcip repip retep\n"
     ]
    }
   ],
   "source": [
    "#Write a python program to find below output:-\n",
    "\n",
    "#Input:- 'peter piper picked a peck of pickled peppers.'\n",
    "#Output:- '.sreppep delkcip fo kcep a dekcip repip retep'\n",
    "x = 'peter piper picked a peck of pickled peppers.'\n",
    "print(x[::-1])"
   ]
  },
  {
   "cell_type": "code",
   "execution_count": 29,
   "metadata": {
    "colab": {
     "base_uri": "https://localhost:8080/"
    },
    "executionInfo": {
     "elapsed": 1253,
     "status": "ok",
     "timestamp": 1613116110454,
     "user": {
      "displayName": "Abhishek Gupta",
      "photoUrl": "",
      "userId": "01308143559053085164"
     },
     "user_tz": -330
    },
    "id": "LSgj9glC4feI",
    "outputId": "9c6a7e20-3667-4141-81f3-8a6a25b8f722"
   },
   "outputs": [
    {
     "name": "stdout",
     "output_type": "stream",
     "text": [
      "retep repip dekcip a kcep fo delkcip .sreppep\n"
     ]
    }
   ],
   "source": [
    "#Write a python program to find below output:-\n",
    "\n",
    "#Input:- 'peter piper picked a peck of pickled peppers.'\n",
    "#Output:- 'retep repip dekcip a kcep fo delkcip .sreppep'\n",
    "\n",
    "inp_str = 'peter piper picked a peck of pickled peppers.'\n",
    "print(' '.join([i[::-1] for i in inp_str.split()]))"
   ]
  },
  {
   "cell_type": "code",
   "execution_count": 7,
   "metadata": {
    "colab": {
     "base_uri": "https://localhost:8080/"
    },
    "executionInfo": {
     "elapsed": 733,
     "status": "ok",
     "timestamp": 1613116056930,
     "user": {
      "displayName": "Abhishek Gupta",
      "photoUrl": "",
      "userId": "01308143559053085164"
     },
     "user_tz": -330
    },
    "id": "WUxPAkY94foo",
    "outputId": "99639719-2951-4396-d432-709f3686c6f7"
   },
   "outputs": [
    {
     "name": "stdout",
     "output_type": "stream",
     "text": [
      "Peter Piper Picked A Peck Of Pickled Peppers.\n"
     ]
    }
   ],
   "source": [
    "#Write a python program to find below output:-\n",
    "\n",
    "#Input:- 'peter piper picked a peck of pickled peppers.'\n",
    "#Output:- 'Peter Piper Picked A Peck Of Pickled Peppers.'\n",
    "\n",
    "inp_str = 'peter piper picked a peck of pickled peppers.'\n",
    "print(inp_str.title())"
   ]
  },
  {
   "cell_type": "code",
   "execution_count": 6,
   "metadata": {
    "colab": {
     "base_uri": "https://localhost:8080/"
    },
    "executionInfo": {
     "elapsed": 1062,
     "status": "ok",
     "timestamp": 1613116034119,
     "user": {
      "displayName": "Abhishek Gupta",
      "photoUrl": "",
      "userId": "01308143559053085164"
     },
     "user_tz": -330
    },
    "id": "IT1NSPxA4mww",
    "outputId": "5bd1df7e-d21c-4cd2-ab8e-26164704e622"
   },
   "outputs": [
    {
     "name": "stdout",
     "output_type": "stream",
     "text": [
      "Peter piper picked a peck of pickled peppers.\n"
     ]
    }
   ],
   "source": [
    "#Write a python program to find below output:-\n",
    "\n",
    "#Input:- 'Peter Piper Picked A Peck Of Pickled Peppers.'\n",
    "#Output:- 'Peter piper picked a peck of pickled peppers.'\n",
    "\n",
    "inp_str = 'Peter Piper Picked A Peck Of Pickled Peppers.'\n",
    "print(inp_str.capitalize())\n"
   ]
  },
  {
   "cell_type": "code",
   "execution_count": 30,
   "metadata": {
    "colab": {
     "base_uri": "https://localhost:8080/",
     "height": 34
    },
    "executionInfo": {
     "elapsed": 1499,
     "status": "ok",
     "timestamp": 1600229133792,
     "user": {
      "displayName": "Abhishek Gupta",
      "photoUrl": "",
      "userId": "01308143559053085164"
     },
     "user_tz": -330
    },
    "id": "3Gg65vSc4m3C",
    "outputId": "4f978cd6-7ee9-4406-b6cc-b09fadd7d625"
   },
   "outputs": [
    {
     "name": "stdout",
     "output_type": "stream",
     "text": [
      "29\n",
      "*******\n",
      "29\n"
     ]
    }
   ],
   "source": [
    "#Write a python program to implement index method. If sub_str is found in my_str then it will print the index\n",
    "# of first occurrence of first character of matching string in my_str:-\n",
    "\n",
    "#Input:- my_str = 'Peter Piper Picked A Peck Of Pickled Peppers.', sub_str = 'Pickl'\n",
    "#Output:- 29\n",
    "x = 'Peter Piper Picked A Peck Of Pickled Peppers.'\n",
    "print(x.index('Pickl'))\n",
    "\n",
    "#Using if else\n",
    "print(\"*******\")\n",
    "my_str = 'Peter Piper Picked A Peck Of Pickled Peppers.'\n",
    "sub_str = 'Pickl'\n",
    "if 'Pickl' in my_str:\n",
    "    print(my_str.index('Pickl'))\n",
    "else:\n",
    "    pass\n",
    "\n"
   ]
  },
  {
   "cell_type": "code",
   "execution_count": null,
   "metadata": {
    "colab": {
     "base_uri": "https://localhost:8080/",
     "height": 34
    },
    "executionInfo": {
     "elapsed": 1029,
     "status": "ok",
     "timestamp": 1600229179875,
     "user": {
      "displayName": "Abhishek Gupta",
      "photoUrl": "",
      "userId": "01308143559053085164"
     },
     "user_tz": -330
    },
    "id": "iFRhp_JI4m6k",
    "outputId": "ca1fb240-1cf2-4a61-c2ce-6a79ad88cf75"
   },
   "outputs": [
    {
     "name": "stdout",
     "output_type": "stream",
     "text": [
      "Peter Piper Picked A Pack Of Pickled Peppers.\n"
     ]
    }
   ],
   "source": [
    "#Write a python program to implement replace method. If sub_str is found in my_str then it will replace the first \n",
    "#occurrence of sub_str with new_str else it will will print sub_str not found:-\n",
    "\n",
    "#Input:- my_str = 'Peter Piper Picked A Peck Of Pickled Peppers.', sub_str = 'Peck', new_str = 'Pack'\n",
    "#Output:- 'Peter Piper Picked A Pack Of Pickled Peppers.'\n",
    "print(x.replace('Peck','Pack'))\n"
   ]
  },
  {
   "cell_type": "code",
   "execution_count": 5,
   "metadata": {
    "colab": {
     "base_uri": "https://localhost:8080/",
     "height": 35
    },
    "executionInfo": {
     "elapsed": 1172,
     "status": "ok",
     "timestamp": 1613115878315,
     "user": {
      "displayName": "Abhishek Gupta",
      "photoUrl": "",
      "userId": "01308143559053085164"
     },
     "user_tz": -330
    },
    "id": "dQ9YhBBc4m9V",
    "outputId": "0e256e35-dcea-48fa-9a97-6d919e47e3fb"
   },
   "outputs": [
    {
     "data": {
      "application/vnd.google.colaboratory.intrinsic+json": {
       "type": "string"
      },
      "text/plain": [
       "'*****************Peck************************'"
      ]
     },
     "execution_count": 5,
     "metadata": {
      "tags": []
     },
     "output_type": "execute_result"
    }
   ],
   "source": [
    "#Write a python program to find below output:-\n",
    "\n",
    "#Input:- 'Peter Piper Picked A Peck Of Pickled Peppers.', sub_str = 'Peck', \n",
    "#Output:- '*********************Peck********************'\n",
    "\n",
    "\n",
    "input_str = 'Peter Piper Picked A Peck Of Pickled Peppers.'\n",
    "sub_str = 'Peck'\n",
    "sub_str.rjust(input_str.find(sub_str),'*').ljust(len(input_str),'*')\n",
    "\n"
   ]
  },
  {
   "cell_type": "code",
   "execution_count": 19,
   "metadata": {
    "colab": {
     "base_uri": "https://localhost:8080/"
    },
    "executionInfo": {
     "elapsed": 1281,
     "status": "ok",
     "timestamp": 1613116308439,
     "user": {
      "displayName": "Abhishek Gupta",
      "photoUrl": "",
      "userId": "01308143559053085164"
     },
     "user_tz": -330
    },
    "id": "w37BRLdt4tYT",
    "outputId": "5a330519-6c78-4db1-ee4a-4aa5788b17a7"
   },
   "outputs": [
    {
     "name": "stdout",
     "output_type": "stream",
     "text": [
      "['__add__', '__class__', '__contains__', '__delattr__', '__dir__', '__doc__', '__eq__', '__format__', '__ge__', '__getattribute__', '__getitem__', '__getnewargs__', '__gt__', '__hash__', '__init__', '__init_subclass__', '__iter__', '__le__', '__len__', '__lt__', '__mod__', '__mul__', '__ne__', '__new__', '__reduce__', '__reduce_ex__', '__repr__', '__rmod__', '__rmul__', '__setattr__', '__sizeof__', '__str__', '__subclasshook__', 'capitalize', 'casefold', 'center', 'count', 'encode', 'endswith', 'expandtabs', 'find', 'format', 'format_map', 'index', 'isalnum', 'isalpha', 'isdecimal', 'isdigit', 'isidentifier', 'islower', 'isnumeric', 'isprintable', 'isspace', 'istitle', 'isupper', 'join', 'ljust', 'lower', 'lstrip', 'maketrans', 'partition', 'replace', 'rfind', 'rindex', 'rjust', 'rpartition', 'rsplit', 'rstrip', 'split', 'splitlines', 'startswith', 'strip', 'swapcase', 'title', 'translate', 'upper', 'zfill']\n"
     ]
    }
   ],
   "source": [
    "print(dir(str))"
   ]
  },
  {
   "cell_type": "code",
   "execution_count": null,
   "metadata": {
    "colab": {
     "base_uri": "https://localhost:8080/",
     "height": 34
    },
    "executionInfo": {
     "elapsed": 1158,
     "status": "ok",
     "timestamp": 1600228405003,
     "user": {
      "displayName": "Abhishek Gupta",
      "photoUrl": "",
      "userId": "01308143559053085164"
     },
     "user_tz": -330
    },
    "id": "W64gCpeu4vaF",
    "outputId": "13442435-3108-451f-f44d-55df6cc8b671"
   },
   "outputs": [
    {
     "name": "stdout",
     "output_type": "stream",
     "text": [
      "\u001b\n"
     ]
    }
   ],
   "source": [
    "\n"
   ]
  }
 ],
 "metadata": {
  "colab": {
   "authorship_tag": "ABX9TyMSQzDi5Ch5znDiTONhl89n",
   "collapsed_sections": [],
   "name": "Sol_String_Assignment.ipynb",
   "provenance": [
    {
     "file_id": "1m98pVHqnG8VOlPsAYA7_jkavlCnzdN03",
     "timestamp": 1600225696808
    }
   ]
  },
  "kernelspec": {
   "display_name": "Python 3 (ipykernel)",
   "language": "python",
   "name": "python3"
  },
  "language_info": {
   "codemirror_mode": {
    "name": "ipython",
    "version": 3
   },
   "file_extension": ".py",
   "mimetype": "text/x-python",
   "name": "python",
   "nbconvert_exporter": "python",
   "pygments_lexer": "ipython3",
   "version": "3.9.7"
  }
 },
 "nbformat": 4,
 "nbformat_minor": 1
}
