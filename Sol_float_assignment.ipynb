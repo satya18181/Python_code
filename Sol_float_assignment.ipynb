{
 "cells": [
  {
   "cell_type": "code",
   "execution_count": 1,
   "metadata": {
    "colab": {
     "base_uri": "https://localhost:8080/"
    },
    "executionInfo": {
     "elapsed": 1187,
     "status": "ok",
     "timestamp": 1613110445129,
     "user": {
      "displayName": "Abhishek Gupta",
      "photoUrl": "",
      "userId": "01308143559053085164"
     },
     "user_tz": -330
    },
    "id": "dlrMB-Qy2taV",
    "outputId": "d82d008f-c0d3-45ad-a7d8-160a3bb5aba2"
   },
   "outputs": [
    {
     "name": "stdout",
     "output_type": "stream",
     "text": [
      "10.2\n",
      "<class 'float'>\n",
      "2282391722832\n"
     ]
    }
   ],
   "source": [
    "#Declare a float value and store it in a variable. \n",
    "num_f = 10.20\n",
    "\n",
    "\n",
    "\n",
    "\n",
    "#Check the type and print the id of the same.\n",
    "print(num_f)\n",
    "print(type(num_f))\n",
    "print(id(num_f))\n",
    "\n"
   ]
  },
  {
   "cell_type": "code",
   "execution_count": 2,
   "metadata": {
    "colab": {
     "base_uri": "https://localhost:8080/"
    },
    "executionInfo": {
     "elapsed": 10245,
     "status": "ok",
     "timestamp": 1613110716213,
     "user": {
      "displayName": "Abhishek Gupta",
      "photoUrl": "",
      "userId": "01308143559053085164"
     },
     "user_tz": -330
    },
    "id": "IL4fVDHg2wbI",
    "outputId": "99b7da64-21c8-44a5-e2fc-1a28be5eac5b"
   },
   "outputs": [
    {
     "name": "stdout",
     "output_type": "stream",
     "text": [
      "Enter 1st float number: 1.1\n",
      "Enter 2nd float number: 2.2\n",
      "Sum of 1.1 and 2.2 is 3.3000000000000003\n",
      "Difference of 1.1 and 2.2 is -1.1\n",
      "Product of 1.1 and 2.2 is 2.4200000000000004\n",
      "Division result of 1.1 and 2.2 is 0.5\n",
      "Quotient of 1.1 and 2.2 is 0.0\n",
      "Remainder of 1.1 and 2.2 is 1.1\n",
      "Result of 1.1 to the power of 2.2 is 1.2332863005546628\n"
     ]
    }
   ],
   "source": [
    "#Arithmatic Operations on float\n",
    "#Take two different float values.\n",
    "#Store them in two different variables.\n",
    "\n",
    "#Do below operations on them:-\n",
    "    #Find sum of both numbers\n",
    "\n",
    "    #Find differce between them\n",
    "    #Find the product of both numbers.\n",
    "\n",
    "    #Find value after dividing first num with second number\n",
    "\n",
    "    #Find the remainder after dividing first number with second number\n",
    "\n",
    "    #Find the quotient after dividing first number with second number\n",
    "\n",
    "    #Find the result of first num to the power of second number.\n",
    "\n",
    "float_num_1 = float(input('Enter 1st float number: '))\n",
    "float_num_2 = float(input('Enter 2nd float number: '))\n",
    "print(f'Sum of {float_num_1} and {float_num_2} is {float_num_1 + float_num_2}')\n",
    "print(f'Difference of {float_num_1} and {float_num_2} is {float_num_1 - float_num_2}')\n",
    "print(f'Product of {float_num_1} and {float_num_2} is {float_num_1 * float_num_2}')\n",
    "print(f'Division result of {float_num_1} and {float_num_2} is {float_num_1 / float_num_2}')\n",
    "print(f'Quotient of {float_num_1} and {float_num_2} is {float_num_1 // float_num_2}')\n",
    "print(f'Remainder of {float_num_1} and {float_num_2} is {float_num_1 % float_num_2}')\n",
    "print(f'Result of {float_num_1} to the power of {float_num_2} is {float_num_1 ** float_num_2}')"
   ]
  },
  {
   "cell_type": "code",
   "execution_count": 3,
   "metadata": {
    "colab": {
     "base_uri": "https://localhost:8080/"
    },
    "executionInfo": {
     "elapsed": 6831,
     "status": "ok",
     "timestamp": 1613110830065,
     "user": {
      "displayName": "Abhishek Gupta",
      "photoUrl": "",
      "userId": "01308143559053085164"
     },
     "user_tz": -330
    },
    "id": "atCFaH6c2492",
    "outputId": "6c3d5c64-49e5-492f-84ee-ed0fa160a86f"
   },
   "outputs": [
    {
     "name": "stdout",
     "output_type": "stream",
     "text": [
      "Enter 1st float number: 4.5\n",
      "Enter 2nd float number: 2.2\n",
      "Float_num_1 greater than Float_num_2 True\n",
      "Float_num_1 less than Float_num_2 False\n",
      "Float_num_1 greater than or equal to Float_num_2 True\n",
      "Float_num_1 less than or equal to Float_num_2 False\n"
     ]
    }
   ],
   "source": [
    "#Comparison Operators on float\n",
    "#Take two different float values.\n",
    "#Store them in two different variables.\n",
    "\n",
    "#Do below operations on them:-\n",
    "    #Compare these two numbers with below operator:-\n",
    "        #Greater than, '>'\n",
    "\n",
    "        #Smaller than, '<'\n",
    "\n",
    "        #Greater than or equal to, '>='\n",
    "\n",
    "        #Less than or equal to, '<='\n",
    "\n",
    "#Observe their output(return type should be boolean)\n",
    "\n",
    "\n",
    "float_num_1 = float(input('Enter 1st float number: '))\n",
    "float_num_2 = float(input('Enter 2nd float number: '))\n",
    "print('Float_num_1 greater than Float_num_2', float_num_1>float_num_2)\n",
    "print('Float_num_1 less than Float_num_2', float_num_1<float_num_2)\n",
    "print('Float_num_1 greater than or equal to Float_num_2', float_num_1>=float_num_2)\n",
    "print('Float_num_1 less than or equal to Float_num_2', float_num_1<=float_num_2)\n",
    "\n",
    "\n",
    "\n",
    "\n",
    "\n"
   ]
  },
  {
   "cell_type": "code",
   "execution_count": 4,
   "metadata": {
    "colab": {
     "base_uri": "https://localhost:8080/"
    },
    "executionInfo": {
     "elapsed": 9513,
     "status": "ok",
     "timestamp": 1613110877129,
     "user": {
      "displayName": "Abhishek Gupta",
      "photoUrl": "",
      "userId": "01308143559053085164"
     },
     "user_tz": -330
    },
    "id": "agi3U3863A5i",
    "outputId": "2595dd3d-efbc-4c7b-fce3-49b5afa2fc0c"
   },
   "outputs": [
    {
     "name": "stdout",
     "output_type": "stream",
     "text": [
      "Enter 1st float number: 2.1\n",
      "Enter 2nd float number: 6.5\n",
      "Float_num_1 == Float_num_2 False\n",
      "Float_num_1 != Float_num_2 True\n"
     ]
    }
   ],
   "source": [
    "#Equality Operator\n",
    "#Take two different float values.\n",
    "#Store them in two different variables.\n",
    "\n",
    "#Equuate them using equality operator (==, !=)\n",
    "\n",
    "#Observe the output(return type should be boolean)\n",
    "\n",
    "float_num_1 = float(input('Enter 1st float number: '))\n",
    "float_num_2 = float(input('Enter 2nd float number: '))\n",
    "print('Float_num_1 == Float_num_2', float_num_1==float_num_2)\n",
    "print('Float_num_1 != Float_num_2', float_num_1!=float_num_2)\n",
    "\n",
    "\n",
    "\n",
    "\n"
   ]
  },
  {
   "cell_type": "code",
   "execution_count": 5,
   "metadata": {
    "colab": {
     "base_uri": "https://localhost:8080/"
    },
    "executionInfo": {
     "elapsed": 1013,
     "status": "ok",
     "timestamp": 1613110901808,
     "user": {
      "displayName": "Abhishek Gupta",
      "photoUrl": "",
      "userId": "01308143559053085164"
     },
     "user_tz": -330
    },
    "id": "3HLlgaEt3EnJ",
    "outputId": "551152e0-be25-4c9f-de38-6b9b83498fab"
   },
   "outputs": [
    {
     "name": "stdout",
     "output_type": "stream",
     "text": [
      "20.3\n",
      "0.0\n",
      "0.0\n",
      "0.0\n",
      "10.2\n",
      "20.3\n",
      "20.3\n",
      "0\n",
      "False\n",
      "True\n"
     ]
    }
   ],
   "source": [
    "#Logical operators\n",
    "#Observe the output of below code\n",
    "#Cross check the output manually\n",
    "\n",
    "print(10.20 and 20.30)       #both are true and second value taken >Output is 20.3\n",
    "print(0.0 and 20.30)         #First is false so first value taken->Output is 0.0\n",
    "print(20.30 and 0.0)         #Goes to till second and second value is false so second is taken>Output is 0.0\n",
    "print(0.0 and 0)           #First is false so first value is taken->Output is 0.0\n",
    "\n",
    "print(10.20 or 20.30)        #First is True so first value is taken>Output is 10.2\n",
    "print(0.0 or 20.30)          #Goes to till second and second is true second value is taken->Output is 20.3\n",
    "print(20.30 or 0.0)          #First is True so first value is taken->Output is 20.3\n",
    "print(0.0 or 0)            #Goes to till second and secod is also false and second value is taken>Output is 0.0\n",
    "\n",
    "print(not 10.20)             #-Not of true is false->Output is False\n",
    "print(not 0.0)               #Not of false is True>Output is True"
   ]
  },
  {
   "cell_type": "code",
   "execution_count": 6,
   "metadata": {
    "id": "7YdyRNtk3UZd"
   },
   "outputs": [
    {
     "name": "stdout",
     "output_type": "stream",
     "text": [
      "False\n",
      "True\n",
      "QUESTION \n",
      " Why the Id of float values are different when the same value is assigned to two different variables \n",
      " ex: a = 10.5 b=10.5. but id will be same if I assign the variable having float i.e. a=c then both a anc c\n",
      "\n",
      " ANSWER \n",
      "\n",
      "Object reusability concept is not avaiable for float object\n"
     ]
    }
   ],
   "source": [
    "#What is the output of expression inside print statement. Cross check before running the program.\n",
    "a = 10.20\n",
    "b = 10.20\n",
    "print(a is b)          #True or False? True 10.20<256\n",
    "print(a is not b)      #True or False? False\n",
    "\n",
    "print('QUESTION \\n Why the Id of float values are different when the same value is assigned to two different variables \\n ex: a = 10.5 b=10.5. but id will be same if I assign the variable having float i.e. a=c then both a anc c')\n",
    "# Why the Id of float values are different when the same value is assigned to two different variables\n",
    "# ex: a = 10.5 b=10.5. but id will be same if I assign the variable having float i.e. a=c then both a anc c's\n",
    "\n",
    "# Object reusability concept is not avaiable for float object\n",
    "print(\"\\n ANSWER \\n\")\n",
    "print(\"Object reusability concept is not avaiable for float object\")"
   ]
  },
  {
   "cell_type": "markdown",
   "metadata": {
    "id": "iTvnIMLd3VLW"
   },
   "source": [
    "Bitwise operation is not applicable between instances of float.\n",
    "Object reusability concept is not applicable on float values."
   ]
  },
  {
   "cell_type": "code",
   "execution_count": 8,
   "metadata": {
    "id": "29AVJHpx3YUo"
   },
   "outputs": [
    {
     "name": "stdout",
     "output_type": "stream",
     "text": [
      "True\n",
      "True\n",
      "True\n",
      "True\n",
      "True\n",
      "True\n"
     ]
    }
   ],
   "source": [
    "#Membership operation\n",
    "#in, not in are two membership operators and it returns boolean value\n",
    "\n",
    "print('2.7' in 'Python2.7.8')              #True\n",
    "print(10.20 in [10,10.20,10+20j,'Python']) #True\n",
    "print(10.20 in (10,10.20,10+20j,'Python')) # True\n",
    "print(20.30 in {1,20.30,30+40j})           # True\n",
    "print(2.3 in {1:100, 2.3:200, 30+40j:300}) # True\n",
    "print(10 in range(20))                     # True"
   ]
  },
  {
   "cell_type": "code",
   "execution_count": null,
   "metadata": {},
   "outputs": [],
   "source": []
  }
 ],
 "metadata": {
  "colab": {
   "authorship_tag": "ABX9TyOkYrRNVr6amDVaTX3v8X9c",
   "name": "Sol_float_assignment.ipynb",
   "provenance": [
    {
     "file_id": "1M6Pl0S40J_yaLQtCoOeeEANYc_4k6uoA",
     "timestamp": 1613110451486
    }
   ]
  },
  "kernelspec": {
   "display_name": "Python 3 (ipykernel)",
   "language": "python",
   "name": "python3"
  },
  "language_info": {
   "codemirror_mode": {
    "name": "ipython",
    "version": 3
   },
   "file_extension": ".py",
   "mimetype": "text/x-python",
   "name": "python",
   "nbconvert_exporter": "python",
   "pygments_lexer": "ipython3",
   "version": "3.9.7"
  }
 },
 "nbformat": 4,
 "nbformat_minor": 1
}
