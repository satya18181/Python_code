{
 "cells": [
  {
   "cell_type": "code",
   "execution_count": 43,
   "metadata": {},
   "outputs": [
    {
     "name": "stdout",
     "output_type": "stream",
     "text": [
      "[3, 9, 15, 18, 6, 36]\n"
     ]
    }
   ],
   "source": [
    "# Write a Python program to triple all numbers of a given list of integers. Use Python map\n",
    "\n",
    "lst = [1,3,5,6,2,12]\n",
    "data = map(lambda a: a*3 , lst)\n",
    "print(list(data))"
   ]
  },
  {
   "cell_type": "code",
   "execution_count": 44,
   "metadata": {},
   "outputs": [
    {
     "name": "stdout",
     "output_type": "stream",
     "text": [
      "[111, 222, 333, 444, 555]\n"
     ]
    }
   ],
   "source": [
    "# Write a Python program to add three given lists using Python map and lambda\n",
    "list_1=[1,2,3,4,5]\n",
    "list_2=[10,20,30,40,50]\n",
    "list_3=[100,200,300,400,500]\n",
    "\n",
    "data = map(lambda a,b,c: a+b+c , list_1, list_2, list_3)\n",
    "print(list(data))"
   ]
  },
  {
   "cell_type": "code",
   "execution_count": 45,
   "metadata": {},
   "outputs": [
    {
     "name": "stdout",
     "output_type": "stream",
     "text": [
      "[(6, 6), (6, 4), (10, -4), (16, 2)]\n"
     ]
    }
   ],
   "source": [
    "# Write a Python program to add two given lists and find the difference between lists\n",
    "\n",
    "\"\"\"\n",
    "sample list\n",
    "nums1 = [6, 5, 3, 9]\n",
    "nums2 = [0, 1, 7, 7]\n",
    "\n",
    "\n",
    "output  - [(6, 6), (6, 4), (10, -4), (16, 2)]\n",
    "\n",
    "\"\"\"\n",
    "\n",
    "nums1 = [6, 5, 3, 9]\n",
    "nums2 = [0, 1, 7, 7]\n",
    "\n",
    "output = map(lambda a,b: (a+b,a-b),nums1,nums2)\n",
    "print(list(output))"
   ]
  },
  {
   "cell_type": "code",
   "execution_count": 73,
   "metadata": {},
   "outputs": [
    {
     "name": "stdout",
     "output_type": "stream",
     "text": [
      "{('O', 'o'), ('A', 'a'), ('U', 'u'), ('B', 'b'), ('I', 'i'), ('F', 'f'), ('E', 'e')}\n"
     ]
    }
   ],
   "source": [
    "# Write a Python program to convert all the characters in uppercase and lowercase and eliminate duplicate letters from a given sequence\n",
    "\n",
    "def change_cases(s):\n",
    "    return str(s).upper(), (s).lower()\n",
    " \n",
    "chars = ['a', 'b', 'E', 'f', 'a', 'i', 'o', 'U', 'a']\n",
    "result = map(change_cases, chars)\n",
    "print(set(result))"
   ]
  },
  {
   "cell_type": "code",
   "execution_count": 70,
   "metadata": {},
   "outputs": [
    {
     "name": "stdout",
     "output_type": "stream",
     "text": [
      "['Apple', 'Apricot', 'Avacado', 'Amla']\n"
     ]
    }
   ],
   "source": [
    "# Filter out the fruits that start with A \n",
    "list_1 = ['Apple','Banana','Orange','Apricot','Pineapple','Avacado','Mango','Amla']\n",
    "print(list(filter(lambda fruit: fruit if fruit.startswith('A') else None, list_1)))"
   ]
  },
  {
   "cell_type": "code",
   "execution_count": 50,
   "metadata": {},
   "outputs": [
    {
     "name": "stdout",
     "output_type": "stream",
     "text": [
      "[2, 23, 12, 100]\n"
     ]
    }
   ],
   "source": [
    "# Filter out the positve number from a list\n",
    "list_1 = [-1,2,23,-34,12,100,-20]\n",
    "print(list(filter(lambda n: n if n>=0 else None, list_1)))"
   ]
  },
  {
   "cell_type": "code",
   "execution_count": 51,
   "metadata": {},
   "outputs": [
    {
     "name": "stdout",
     "output_type": "stream",
     "text": [
      "[45, 15, 60]\n"
     ]
    }
   ],
   "source": [
    "# filter out the multiples of 3 and 5 from a list\n",
    "list_1 = [3,45,67,15,10,23,43,100,60]\n",
    "print(list(filter(lambda n: n if n%3==0 and n%5==0 else None, list_1)))"
   ]
  },
  {
   "cell_type": "code",
   "execution_count": 59,
   "metadata": {},
   "outputs": [
    {
     "name": "stdout",
     "output_type": "stream",
     "text": [
      "level\n"
     ]
    }
   ],
   "source": [
    "# find the max string using reuduce function\n",
    "import functools\n",
    "\n",
    "list_1 = ['abc','level','Kite','Python']\n",
    "print((functools.reduce(lambda a,b: a if a>b else b, list_1)))"
   ]
  },
  {
   "cell_type": "code",
   "execution_count": 63,
   "metadata": {},
   "outputs": [
    {
     "name": "stdout",
     "output_type": "stream",
     "text": [
      "max: 100\n",
      "min: 12\n",
      "mean: 49.0\n"
     ]
    }
   ],
   "source": [
    "# find the mean , max and min of a given list using reduce function\n",
    "import functools\n",
    "\n",
    "list_1 = [20,34,56,12,23,67,80,100]\n",
    "print('max:',(functools.reduce(lambda a,b: a if a>b else b, list_1)))\n",
    "print('min:',(functools.reduce(lambda a,b: a if a<b else b, list_1)))\n",
    "print('mean:',(functools.reduce(lambda a,b: a+b, list_1))/len(list_1))"
   ]
  },
  {
   "cell_type": "code",
   "execution_count": null,
   "metadata": {},
   "outputs": [],
   "source": []
  }
 ],
 "metadata": {
  "kernelspec": {
   "display_name": "Python 3 (ipykernel)",
   "language": "python",
   "name": "python3"
  },
  "language_info": {
   "codemirror_mode": {
    "name": "ipython",
    "version": 3
   },
   "file_extension": ".py",
   "mimetype": "text/x-python",
   "name": "python",
   "nbconvert_exporter": "python",
   "pygments_lexer": "ipython3",
   "version": "3.9.7"
  }
 },
 "nbformat": 4,
 "nbformat_minor": 4
}
